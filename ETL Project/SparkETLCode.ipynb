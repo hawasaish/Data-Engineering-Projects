{
 "cells": [
  {
   "cell_type": "markdown",
   "id": "fafd2b59",
   "metadata": {},
   "source": [
    "- # ETL Project"
   ]
  },
  {
   "cell_type": "markdown",
   "id": "871a5c76",
   "metadata": {},
   "source": [
    "- ## Jupyter notebook for transformation actions on the dataset using Spark"
   ]
  },
  {
   "cell_type": "markdown",
   "id": "148d08e7",
   "metadata": {},
   "source": [
    "## 1. Starting the Spark application and reading the data into a dataframe"
   ]
  },
  {
   "cell_type": "code",
   "execution_count": 1,
   "id": "cf61bb83",
   "metadata": {},
   "outputs": [
    {
     "data": {
      "application/vnd.jupyter.widget-view+json": {
       "model_id": "1aacce1778754ee1bd65416afb985116",
       "version_major": 2,
       "version_minor": 0
      },
      "text/plain": [
       "VBox()"
      ]
     },
     "metadata": {},
     "output_type": "display_data"
    },
    {
     "name": "stdout",
     "output_type": "stream",
     "text": [
      "Starting Spark application\n"
     ]
    },
    {
     "data": {
      "text/html": [
       "<table>\n",
       "<tr><th>ID</th><th>YARN Application ID</th><th>Kind</th><th>State</th><th>Spark UI</th><th>Driver log</th><th>Current session?</th></tr><tr><td>0</td><td>application_1638168361295_0002</td><td>pyspark</td><td>idle</td><td><a target=\"_blank\" href=\"http://ip-172-31-41-54.ec2.internal:20888/proxy/application_1638168361295_0002/\">Link</a></td><td><a target=\"_blank\" href=\"http://ip-172-31-41-54.ec2.internal:8042/node/containerlogs/container_1638168361295_0002_01_000001/livy\">Link</a></td><td>✔</td></tr></table>"
      ],
      "text/plain": [
       "<IPython.core.display.HTML object>"
      ]
     },
     "metadata": {},
     "output_type": "display_data"
    },
    {
     "data": {
      "application/vnd.jupyter.widget-view+json": {
       "model_id": "",
       "version_major": 2,
       "version_minor": 0
      },
      "text/plain": [
       "FloatProgress(value=0.0, bar_style='info', description='Progress:', layout=Layout(height='25px', width='50%'),…"
      ]
     },
     "metadata": {},
     "output_type": "display_data"
    },
    {
     "name": "stdout",
     "output_type": "stream",
     "text": [
      "SparkSession available as 'spark'.\n"
     ]
    },
    {
     "data": {
      "application/vnd.jupyter.widget-view+json": {
       "model_id": "",
       "version_major": 2,
       "version_minor": 0
      },
      "text/plain": [
       "FloatProgress(value=0.0, bar_style='info', description='Progress:', layout=Layout(height='25px', width='50%'),…"
      ]
     },
     "metadata": {},
     "output_type": "display_data"
    },
    {
     "name": "stdout",
     "output_type": "stream",
     "text": [
      "<pyspark.sql.session.SparkSession object at 0x7ff14024ead0>"
     ]
    }
   ],
   "source": [
    "# Starting the Spark application.\n",
    "spark"
   ]
  },
  {
   "cell_type": "code",
   "execution_count": 2,
   "id": "da8eb357",
   "metadata": {},
   "outputs": [
    {
     "data": {
      "application/vnd.jupyter.widget-view+json": {
       "model_id": "4d246deb5b69429fb1d47f8df31ea091",
       "version_major": 2,
       "version_minor": 0
      },
      "text/plain": [
       "VBox()"
      ]
     },
     "metadata": {},
     "output_type": "display_data"
    },
    {
     "data": {
      "application/vnd.jupyter.widget-view+json": {
       "model_id": "",
       "version_major": 2,
       "version_minor": 0
      },
      "text/plain": [
       "FloatProgress(value=0.0, bar_style='info', description='Progress:', layout=Layout(height='25px', width='50%'),…"
      ]
     },
     "metadata": {},
     "output_type": "display_data"
    }
   ],
   "source": [
    "# Spark session is now available. Reading the data into the dataframe.\n",
    "atm_data = spark.read.load(\"part-m-00000\", format=\"csv\", sep=\",\", inferschema=\"true\", header=\"false\")"
   ]
  },
  {
   "cell_type": "code",
   "execution_count": 3,
   "id": "7c4f95b6",
   "metadata": {},
   "outputs": [
    {
     "data": {
      "application/vnd.jupyter.widget-view+json": {
       "model_id": "c1eddf2df931408bbe54645aa77e460f",
       "version_major": 2,
       "version_minor": 0
      },
      "text/plain": [
       "VBox()"
      ]
     },
     "metadata": {},
     "output_type": "display_data"
    },
    {
     "data": {
      "application/vnd.jupyter.widget-view+json": {
       "model_id": "",
       "version_major": 2,
       "version_minor": 0
      },
      "text/plain": [
       "FloatProgress(value=0.0, bar_style='info', description='Progress:', layout=Layout(height='25px', width='50%'),…"
      ]
     },
     "metadata": {},
     "output_type": "display_data"
    },
    {
     "name": "stdout",
     "output_type": "stream",
     "text": [
      "2468572"
     ]
    }
   ],
   "source": [
    "# Verifying the number of records retrieved in the dataframe.\n",
    "atm_data.count()"
   ]
  },
  {
   "cell_type": "markdown",
   "id": "9eb9409e",
   "metadata": {},
   "source": [
    "- #### We have verified the number of records in the dataframe are as expected i.e. 2468572"
   ]
  },
  {
   "cell_type": "markdown",
   "id": "62b3bde4",
   "metadata": {},
   "source": [
    "## 2. Assigning the correct column names and data types."
   ]
  },
  {
   "cell_type": "code",
   "execution_count": 4,
   "id": "87e15036",
   "metadata": {},
   "outputs": [
    {
     "data": {
      "application/vnd.jupyter.widget-view+json": {
       "model_id": "3dc66cf504da409fa8969ecb28fdf176",
       "version_major": 2,
       "version_minor": 0
      },
      "text/plain": [
       "VBox()"
      ]
     },
     "metadata": {},
     "output_type": "display_data"
    },
    {
     "data": {
      "application/vnd.jupyter.widget-view+json": {
       "model_id": "",
       "version_major": 2,
       "version_minor": 0
      },
      "text/plain": [
       "FloatProgress(value=0.0, bar_style='info', description='Progress:', layout=Layout(height='25px', width='50%'),…"
      ]
     },
     "metadata": {},
     "output_type": "display_data"
    },
    {
     "name": "stdout",
     "output_type": "stream",
     "text": [
      "root\n",
      " |-- _c0: integer (nullable = true)\n",
      " |-- _c1: string (nullable = true)\n",
      " |-- _c2: integer (nullable = true)\n",
      " |-- _c3: string (nullable = true)\n",
      " |-- _c4: integer (nullable = true)\n",
      " |-- _c5: string (nullable = true)\n",
      " |-- _c6: integer (nullable = true)\n",
      " |-- _c7: string (nullable = true)\n",
      " |-- _c8: string (nullable = true)\n",
      " |-- _c9: string (nullable = true)\n",
      " |-- _c10: integer (nullable = true)\n",
      " |-- _c11: integer (nullable = true)\n",
      " |-- _c12: double (nullable = true)\n",
      " |-- _c13: double (nullable = true)\n",
      " |-- _c14: string (nullable = true)\n",
      " |-- _c15: string (nullable = true)\n",
      " |-- _c16: integer (nullable = true)\n",
      " |-- _c17: string (nullable = true)\n",
      " |-- _c18: integer (nullable = true)\n",
      " |-- _c19: string (nullable = true)\n",
      " |-- _c20: double (nullable = true)\n",
      " |-- _c21: double (nullable = true)\n",
      " |-- _c22: integer (nullable = true)\n",
      " |-- _c23: string (nullable = true)\n",
      " |-- _c24: double (nullable = true)\n",
      " |-- _c25: integer (nullable = true)\n",
      " |-- _c26: integer (nullable = true)\n",
      " |-- _c27: integer (nullable = true)\n",
      " |-- _c28: integer (nullable = true)\n",
      " |-- _c29: double (nullable = true)\n",
      " |-- _c30: integer (nullable = true)\n",
      " |-- _c31: integer (nullable = true)\n",
      " |-- _c32: string (nullable = true)\n",
      " |-- _c33: string (nullable = true)"
     ]
    }
   ],
   "source": [
    "# Printing the schema of the dataframe to check the column names.\n",
    "atm_data.printSchema()"
   ]
  },
  {
   "cell_type": "markdown",
   "id": "ec046262",
   "metadata": {},
   "source": [
    "- ### As we can see, the column names are not explaining the values in them. So, we will change the column names and give the meaningfull names according to the data dictionary."
   ]
  },
  {
   "cell_type": "code",
   "execution_count": 5,
   "id": "e620309c",
   "metadata": {},
   "outputs": [
    {
     "data": {
      "application/vnd.jupyter.widget-view+json": {
       "model_id": "298950f7017c411b9ce9793670ca6280",
       "version_major": 2,
       "version_minor": 0
      },
      "text/plain": [
       "VBox()"
      ]
     },
     "metadata": {},
     "output_type": "display_data"
    },
    {
     "data": {
      "application/vnd.jupyter.widget-view+json": {
       "model_id": "",
       "version_major": 2,
       "version_minor": 0
      },
      "text/plain": [
       "FloatProgress(value=0.0, bar_style='info', description='Progress:', layout=Layout(height='25px', width='50%'),…"
      ]
     },
     "metadata": {},
     "output_type": "display_data"
    }
   ],
   "source": [
    "# Changing the column names of the dataframe according to the data dictionary.\n",
    "atm_data = atm_data.withColumnRenamed(\"_c0\",\"year\").withColumnRenamed(\"_c1\",\"month\").withColumnRenamed(\"_c2\",\"day\").withColumnRenamed(\"_c3\",\"weekday\").withColumnRenamed(\"_c4\",\"hour\").withColumnRenamed(\"_c5\",\"atm_status\").withColumnRenamed(\"_c6\",\"atm_id\").withColumnRenamed(\"_c7\",\"atm_manufacturer\").withColumnRenamed(\"_c8\",\"atm_location\").withColumnRenamed(\"_c9\",\"atm_streetname\").withColumnRenamed(\"_c10\",\"atm_street_number\").withColumnRenamed(\"_c11\",\"atm_zipcode\").withColumnRenamed(\"_c12\",\"atm_lat\").withColumnRenamed(\"_c13\",\"atm_lon\").withColumnRenamed(\"_c14\",\"currency\").withColumnRenamed(\"_c15\",\"card_type\").withColumnRenamed(\"_c16\",\"transaction_amount\").withColumnRenamed(\"_c17\",\"service\").withColumnRenamed(\"_c18\",\"message_code\").withColumnRenamed(\"_c19\",\"message_text\").withColumnRenamed(\"_c20\",\"weather_lat\").withColumnRenamed(\"_c21\",\"weather_lon\").withColumnRenamed(\"_c22\",\"weather_city_id\").withColumnRenamed(\"_c23\",\"weather_city_name\").withColumnRenamed(\"_c24\",\"temp\").withColumnRenamed(\"_c25\",\"pressure\").withColumnRenamed(\"_c26\",\"humidity\").withColumnRenamed(\"_c27\",\"wind_speed\").withColumnRenamed(\"_c28\",\"wind_deg\").withColumnRenamed(\"_c29\",\"rain_3h\").withColumnRenamed(\"_c30\",\"clouds_all\").withColumnRenamed(\"_c31\",\"weather_id\").withColumnRenamed(\"_c32\",\"weather_main\").withColumnRenamed(\"_c33\",\"weather_description\")"
   ]
  },
  {
   "cell_type": "code",
   "execution_count": 6,
   "id": "76374a1b",
   "metadata": {},
   "outputs": [
    {
     "data": {
      "application/vnd.jupyter.widget-view+json": {
       "model_id": "a3a62f582881442a88e2b26010cb7baf",
       "version_major": 2,
       "version_minor": 0
      },
      "text/plain": [
       "VBox()"
      ]
     },
     "metadata": {},
     "output_type": "display_data"
    },
    {
     "data": {
      "application/vnd.jupyter.widget-view+json": {
       "model_id": "",
       "version_major": 2,
       "version_minor": 0
      },
      "text/plain": [
       "FloatProgress(value=0.0, bar_style='info', description='Progress:', layout=Layout(height='25px', width='50%'),…"
      ]
     },
     "metadata": {},
     "output_type": "display_data"
    },
    {
     "name": "stdout",
     "output_type": "stream",
     "text": [
      "root\n",
      " |-- year: integer (nullable = true)\n",
      " |-- month: string (nullable = true)\n",
      " |-- day: integer (nullable = true)\n",
      " |-- weekday: string (nullable = true)\n",
      " |-- hour: integer (nullable = true)\n",
      " |-- atm_status: string (nullable = true)\n",
      " |-- atm_id: integer (nullable = true)\n",
      " |-- atm_manufacturer: string (nullable = true)\n",
      " |-- atm_location: string (nullable = true)\n",
      " |-- atm_streetname: string (nullable = true)\n",
      " |-- atm_street_number: integer (nullable = true)\n",
      " |-- atm_zipcode: integer (nullable = true)\n",
      " |-- atm_lat: double (nullable = true)\n",
      " |-- atm_lon: double (nullable = true)\n",
      " |-- currency: string (nullable = true)\n",
      " |-- card_type: string (nullable = true)\n",
      " |-- transaction_amount: integer (nullable = true)\n",
      " |-- service: string (nullable = true)\n",
      " |-- message_code: integer (nullable = true)\n",
      " |-- message_text: string (nullable = true)\n",
      " |-- weather_lat: double (nullable = true)\n",
      " |-- weather_lon: double (nullable = true)\n",
      " |-- weather_city_id: integer (nullable = true)\n",
      " |-- weather_city_name: string (nullable = true)\n",
      " |-- temp: double (nullable = true)\n",
      " |-- pressure: integer (nullable = true)\n",
      " |-- humidity: integer (nullable = true)\n",
      " |-- wind_speed: integer (nullable = true)\n",
      " |-- wind_deg: integer (nullable = true)\n",
      " |-- rain_3h: double (nullable = true)\n",
      " |-- clouds_all: integer (nullable = true)\n",
      " |-- weather_id: integer (nullable = true)\n",
      " |-- weather_main: string (nullable = true)\n",
      " |-- weather_description: string (nullable = true)"
     ]
    }
   ],
   "source": [
    "# Printing the dataframe schema again to check the column names.\n",
    "atm_data.printSchema()"
   ]
  },
  {
   "cell_type": "code",
   "execution_count": 7,
   "id": "62416148",
   "metadata": {},
   "outputs": [
    {
     "data": {
      "application/vnd.jupyter.widget-view+json": {
       "model_id": "38f22c2a724f4e9db925219c98d3bdaf",
       "version_major": 2,
       "version_minor": 0
      },
      "text/plain": [
       "VBox()"
      ]
     },
     "metadata": {},
     "output_type": "display_data"
    },
    {
     "data": {
      "application/vnd.jupyter.widget-view+json": {
       "model_id": "",
       "version_major": 2,
       "version_minor": 0
      },
      "text/plain": [
       "FloatProgress(value=0.0, bar_style='info', description='Progress:', layout=Layout(height='25px', width='50%'),…"
      ]
     },
     "metadata": {},
     "output_type": "display_data"
    },
    {
     "name": "stdout",
     "output_type": "stream",
     "text": [
      "+----+-------+---+-------+----+----------+------+----------------+------------+-------------------+-----------------+-----------+-------+-------+--------+----------+------------------+----------+------------+------------+-----------+-----------+---------------+-----------------+------+--------+--------+----------+--------+-------+----------+----------+------------+--------------------+\n",
      "|year|  month|day|weekday|hour|atm_status|atm_id|atm_manufacturer|atm_location|     atm_streetname|atm_street_number|atm_zipcode|atm_lat|atm_lon|currency| card_type|transaction_amount|   service|message_code|message_text|weather_lat|weather_lon|weather_city_id|weather_city_name|  temp|pressure|humidity|wind_speed|wind_deg|rain_3h|clouds_all|weather_id|weather_main| weather_description|\n",
      "+----+-------+---+-------+----+----------+------+----------------+------------+-------------------+-----------------+-----------+-------+-------+--------+----------+------------------+----------+------------+------------+-----------+-----------+---------------+-----------------+------+--------+--------+----------+--------+-------+----------+----------+------------+--------------------+\n",
      "|2017|January|  1| Sunday|   0|    Active|     1|             NCR|  NÃƒÂ¦stved|        Farimagsvej|                8|       4700| 55.233| 11.763|     DKK|MasterCard|              5643|Withdrawal|        null|        null|      55.23|     11.761|        2616038|         Naestved|281.15|    1014|      87|         7|     260|  0.215|        92|       500|        Rain|          light rain|\n",
      "|2017|January|  1| Sunday|   0|  Inactive|     2|             NCR|    Vejgaard|         Hadsundvej|               20|       9000| 57.043|   9.95|     DKK|MasterCard|              1764|Withdrawal|        null|        null|     57.048|      9.935|        2616235|   NÃƒÂ¸rresundby|280.64|    1020|      93|         9|     250|   0.59|        92|       500|        Rain|          light rain|\n",
      "|2017|January|  1| Sunday|   0|  Inactive|     2|             NCR|    Vejgaard|         Hadsundvej|               20|       9000| 57.043|   9.95|     DKK|      VISA|              1891|Withdrawal|        null|        null|     57.048|      9.935|        2616235|   NÃƒÂ¸rresundby|280.64|    1020|      93|         9|     250|   0.59|        92|       500|        Rain|          light rain|\n",
      "|2017|January|  1| Sunday|   0|  Inactive|     3|             NCR|       Ikast|RÃƒÂ¥dhusstrÃƒÂ¦det|               12|       7430| 56.139|  9.154|     DKK|      VISA|              4166|Withdrawal|        null|        null|     56.139|      9.158|        2619426|            Ikast|281.15|    1011|     100|         6|     240|    0.0|        75|       300|     Drizzle|light intensity d...|\n",
      "|2017|January|  1| Sunday|   0|    Active|     4|             NCR|  Svogerslev|       BrÃƒÂ¸nsager|                1|       4000| 55.634| 12.018|     DKK|MasterCard|              5153|Withdrawal|        null|        null|     55.642|      12.08|        2614481|         Roskilde|280.61|    1014|      87|         7|     260|    0.0|        88|       701|        Mist|                mist|\n",
      "+----+-------+---+-------+----+----------+------+----------------+------------+-------------------+-----------------+-----------+-------+-------+--------+----------+------------------+----------+------------+------------+-----------+-----------+---------------+-----------------+------+--------+--------+----------+--------+-------+----------+----------+------------+--------------------+\n",
      "only showing top 5 rows"
     ]
    }
   ],
   "source": [
    "# Checking the data in the dataframe.\n",
    "atm_data.show(5)"
   ]
  },
  {
   "cell_type": "markdown",
   "id": "88e72ded",
   "metadata": {},
   "source": [
    "- ### Datatype for 'atm_id' and 'message_code' is not matching with the datatype given in the data dictionary. So, we will go ahead and change the datatype for them."
   ]
  },
  {
   "cell_type": "code",
   "execution_count": 8,
   "id": "23fa1b2e",
   "metadata": {},
   "outputs": [
    {
     "data": {
      "application/vnd.jupyter.widget-view+json": {
       "model_id": "01c1fab2515d423eaf2f3c78d1c737c0",
       "version_major": 2,
       "version_minor": 0
      },
      "text/plain": [
       "VBox()"
      ]
     },
     "metadata": {},
     "output_type": "display_data"
    },
    {
     "data": {
      "application/vnd.jupyter.widget-view+json": {
       "model_id": "",
       "version_major": 2,
       "version_minor": 0
      },
      "text/plain": [
       "FloatProgress(value=0.0, bar_style='info', description='Progress:', layout=Layout(height='25px', width='50%'),…"
      ]
     },
     "metadata": {},
     "output_type": "display_data"
    }
   ],
   "source": [
    "# Importing everything from pyspark.sql.types\n",
    "from pyspark.sql.types import *"
   ]
  },
  {
   "cell_type": "code",
   "execution_count": 9,
   "id": "1aa7efbe",
   "metadata": {},
   "outputs": [
    {
     "data": {
      "application/vnd.jupyter.widget-view+json": {
       "model_id": "4a0aa838a03147eb870dbe5e3b75971f",
       "version_major": 2,
       "version_minor": 0
      },
      "text/plain": [
       "VBox()"
      ]
     },
     "metadata": {},
     "output_type": "display_data"
    },
    {
     "data": {
      "application/vnd.jupyter.widget-view+json": {
       "model_id": "",
       "version_major": 2,
       "version_minor": 0
      },
      "text/plain": [
       "FloatProgress(value=0.0, bar_style='info', description='Progress:', layout=Layout(height='25px', width='50%'),…"
      ]
     },
     "metadata": {},
     "output_type": "display_data"
    }
   ],
   "source": [
    "# Creating a new schema 'atm_schema' with the column names and datatypes according to the data dictionary.\n",
    "atm_schema = StructType([StructField('year', IntegerType(), True),\n",
    "StructField('month', StringType(), True),\n",
    "StructField('day', IntegerType(), True),\n",
    "StructField('weekday', StringType(), True),\n",
    "StructField('hour', IntegerType(), True),\n",
    "StructField('atm_status', StringType(), True),\n",
    "StructField('atm_id', StringType(), True),\n",
    "StructField('atm_manufacturer', StringType(), True),\n",
    "StructField('atm_location', StringType(), True),\n",
    "StructField('atm_streetname', StringType(), True),\n",
    "StructField('atm_street_number', IntegerType(), True),\n",
    "StructField('atm_zipcode', IntegerType(), True),\n",
    "StructField('atm_lat', DoubleType(), True),\n",
    "StructField('atm_lon', DoubleType(), True),\n",
    "StructField('currency', StringType(), True),\n",
    "StructField('card_type', StringType(), True),\n",
    "StructField('transaction_amount', IntegerType(), True),\n",
    "StructField('service', StringType(), True),\n",
    "StructField('message_code', StringType(), True),\n",
    "StructField('message_text', StringType(), True),\n",
    "StructField('weather_lat', DoubleType(), True),\n",
    "StructField('weather_lon', DoubleType(), True),\n",
    "StructField('weather_city_id', IntegerType(), True),\n",
    "StructField('weather_city_name', StringType(), True),\n",
    "StructField('temp', DoubleType(), True),\n",
    "StructField('pressure', IntegerType(), True),\n",
    "StructField('humidity', IntegerType(), True),\n",
    "StructField('wind_speed', IntegerType(), True),\n",
    "StructField('wind_deg', IntegerType(), True),\n",
    "StructField('rain_3h', DoubleType(), True),\n",
    "StructField('clouds_all', IntegerType(), True),\n",
    "StructField('weather_id', IntegerType(), True),\n",
    "StructField('weather_main', StringType(), True),\n",
    "StructField('weather_description', StringType(), True)])"
   ]
  },
  {
   "cell_type": "code",
   "execution_count": 10,
   "id": "e5d70446",
   "metadata": {},
   "outputs": [
    {
     "data": {
      "application/vnd.jupyter.widget-view+json": {
       "model_id": "3eab740c7fcb461da2db6ac8f760060b",
       "version_major": 2,
       "version_minor": 0
      },
      "text/plain": [
       "VBox()"
      ]
     },
     "metadata": {},
     "output_type": "display_data"
    },
    {
     "data": {
      "application/vnd.jupyter.widget-view+json": {
       "model_id": "",
       "version_major": 2,
       "version_minor": 0
      },
      "text/plain": [
       "FloatProgress(value=0.0, bar_style='info', description='Progress:', layout=Layout(height='25px', width='50%'),…"
      ]
     },
     "metadata": {},
     "output_type": "display_data"
    }
   ],
   "source": [
    "# Creating a new dataframe 'atm_data1' using the newly created schema.\n",
    "atm_data1 = spark.read.load(\"part-m-00000\", format=\"csv\", sep=\",\", schema=atm_schema, header=\"false\")"
   ]
  },
  {
   "cell_type": "code",
   "execution_count": 11,
   "id": "d5ff14ca",
   "metadata": {},
   "outputs": [
    {
     "data": {
      "application/vnd.jupyter.widget-view+json": {
       "model_id": "f17acecb098a46c3ac69808689c17056",
       "version_major": 2,
       "version_minor": 0
      },
      "text/plain": [
       "VBox()"
      ]
     },
     "metadata": {},
     "output_type": "display_data"
    },
    {
     "data": {
      "application/vnd.jupyter.widget-view+json": {
       "model_id": "",
       "version_major": 2,
       "version_minor": 0
      },
      "text/plain": [
       "FloatProgress(value=0.0, bar_style='info', description='Progress:', layout=Layout(height='25px', width='50%'),…"
      ]
     },
     "metadata": {},
     "output_type": "display_data"
    },
    {
     "name": "stdout",
     "output_type": "stream",
     "text": [
      "root\n",
      " |-- year: integer (nullable = true)\n",
      " |-- month: string (nullable = true)\n",
      " |-- day: integer (nullable = true)\n",
      " |-- weekday: string (nullable = true)\n",
      " |-- hour: integer (nullable = true)\n",
      " |-- atm_status: string (nullable = true)\n",
      " |-- atm_id: string (nullable = true)\n",
      " |-- atm_manufacturer: string (nullable = true)\n",
      " |-- atm_location: string (nullable = true)\n",
      " |-- atm_streetname: string (nullable = true)\n",
      " |-- atm_street_number: integer (nullable = true)\n",
      " |-- atm_zipcode: integer (nullable = true)\n",
      " |-- atm_lat: double (nullable = true)\n",
      " |-- atm_lon: double (nullable = true)\n",
      " |-- currency: string (nullable = true)\n",
      " |-- card_type: string (nullable = true)\n",
      " |-- transaction_amount: integer (nullable = true)\n",
      " |-- service: string (nullable = true)\n",
      " |-- message_code: string (nullable = true)\n",
      " |-- message_text: string (nullable = true)\n",
      " |-- weather_lat: double (nullable = true)\n",
      " |-- weather_lon: double (nullable = true)\n",
      " |-- weather_city_id: integer (nullable = true)\n",
      " |-- weather_city_name: string (nullable = true)\n",
      " |-- temp: double (nullable = true)\n",
      " |-- pressure: integer (nullable = true)\n",
      " |-- humidity: integer (nullable = true)\n",
      " |-- wind_speed: integer (nullable = true)\n",
      " |-- wind_deg: integer (nullable = true)\n",
      " |-- rain_3h: double (nullable = true)\n",
      " |-- clouds_all: integer (nullable = true)\n",
      " |-- weather_id: integer (nullable = true)\n",
      " |-- weather_main: string (nullable = true)\n",
      " |-- weather_description: string (nullable = true)"
     ]
    }
   ],
   "source": [
    "# Printing the schema to check the column names and datatypes.\n",
    "atm_data1.printSchema()"
   ]
  },
  {
   "cell_type": "code",
   "execution_count": 12,
   "id": "84f13875",
   "metadata": {},
   "outputs": [
    {
     "data": {
      "application/vnd.jupyter.widget-view+json": {
       "model_id": "6a6887ad388947ca8b01897318c9ec7e",
       "version_major": 2,
       "version_minor": 0
      },
      "text/plain": [
       "VBox()"
      ]
     },
     "metadata": {},
     "output_type": "display_data"
    },
    {
     "data": {
      "application/vnd.jupyter.widget-view+json": {
       "model_id": "",
       "version_major": 2,
       "version_minor": 0
      },
      "text/plain": [
       "FloatProgress(value=0.0, bar_style='info', description='Progress:', layout=Layout(height='25px', width='50%'),…"
      ]
     },
     "metadata": {},
     "output_type": "display_data"
    },
    {
     "name": "stdout",
     "output_type": "stream",
     "text": [
      "2468572"
     ]
    }
   ],
   "source": [
    "# Checking the number of records in the dataframe.\n",
    "atm_data1.count()"
   ]
  },
  {
   "cell_type": "markdown",
   "id": "16901164",
   "metadata": {},
   "source": [
    "- ### We have the dataframe ready with the column names and datatypes according to the data dictionary.\n",
    "- ### Also, the number of records in the dataframe are as expected i.e. 2468572."
   ]
  },
  {
   "cell_type": "markdown",
   "id": "48e22064",
   "metadata": {},
   "source": [
    "## 3. Creating Dimension tables"
   ]
  },
  {
   "cell_type": "markdown",
   "id": "ce93378a",
   "metadata": {},
   "source": [
    "### 3.1 DIM_LOCATION"
   ]
  },
  {
   "cell_type": "code",
   "execution_count": 13,
   "id": "af5eceba",
   "metadata": {},
   "outputs": [
    {
     "data": {
      "application/vnd.jupyter.widget-view+json": {
       "model_id": "d18b1d45d2d949abb46b1aa83324eaf4",
       "version_major": 2,
       "version_minor": 0
      },
      "text/plain": [
       "VBox()"
      ]
     },
     "metadata": {},
     "output_type": "display_data"
    },
    {
     "data": {
      "application/vnd.jupyter.widget-view+json": {
       "model_id": "",
       "version_major": 2,
       "version_minor": 0
      },
      "text/plain": [
       "FloatProgress(value=0.0, bar_style='info', description='Progress:', layout=Layout(height='25px', width='50%'),…"
      ]
     },
     "metadata": {},
     "output_type": "display_data"
    }
   ],
   "source": [
    "# Creating the DIM_LOCATION dataframe.\n",
    "DIM_LOCATION = atm_data1.select(\"atm_location\",\"atm_streetname\",\"atm_street_number\",\"atm_zipcode\",\"atm_lat\",\"atm_lon\")"
   ]
  },
  {
   "cell_type": "code",
   "execution_count": 14,
   "id": "042594ca",
   "metadata": {},
   "outputs": [
    {
     "data": {
      "application/vnd.jupyter.widget-view+json": {
       "model_id": "52d789b23b8f47f1bddeeeb5f1459cf7",
       "version_major": 2,
       "version_minor": 0
      },
      "text/plain": [
       "VBox()"
      ]
     },
     "metadata": {},
     "output_type": "display_data"
    },
    {
     "data": {
      "application/vnd.jupyter.widget-view+json": {
       "model_id": "",
       "version_major": 2,
       "version_minor": 0
      },
      "text/plain": [
       "FloatProgress(value=0.0, bar_style='info', description='Progress:', layout=Layout(height='25px', width='50%'),…"
      ]
     },
     "metadata": {},
     "output_type": "display_data"
    }
   ],
   "source": [
    "# Changing the column names according to the DIM_LOCATION schema.\n",
    "DIM_LOCATION = DIM_LOCATION.withColumnRenamed(\"atm_location\",\"location\").withColumnRenamed(\"atm_streetname\",\"streetname\").withColumnRenamed(\"atm_street_number\",\"street_number\").withColumnRenamed(\"atm_zipcode\",\"zipcode\").withColumnRenamed(\"atm_lat\",\"lat\").withColumnRenamed(\"atm_lon\",\"lon\")"
   ]
  },
  {
   "cell_type": "code",
   "execution_count": 15,
   "id": "9097d040",
   "metadata": {},
   "outputs": [
    {
     "data": {
      "application/vnd.jupyter.widget-view+json": {
       "model_id": "3f786cce12454ce2888a6e7cc87c4d93",
       "version_major": 2,
       "version_minor": 0
      },
      "text/plain": [
       "VBox()"
      ]
     },
     "metadata": {},
     "output_type": "display_data"
    },
    {
     "data": {
      "application/vnd.jupyter.widget-view+json": {
       "model_id": "",
       "version_major": 2,
       "version_minor": 0
      },
      "text/plain": [
       "FloatProgress(value=0.0, bar_style='info', description='Progress:', layout=Layout(height='25px', width='50%'),…"
      ]
     },
     "metadata": {},
     "output_type": "display_data"
    },
    {
     "name": "stdout",
     "output_type": "stream",
     "text": [
      "root\n",
      " |-- location: string (nullable = true)\n",
      " |-- streetname: string (nullable = true)\n",
      " |-- street_number: integer (nullable = true)\n",
      " |-- zipcode: integer (nullable = true)\n",
      " |-- lat: double (nullable = true)\n",
      " |-- lon: double (nullable = true)"
     ]
    }
   ],
   "source": [
    "# Printing the schema to check the column names and datatypes.\n",
    "DIM_LOCATION.printSchema()"
   ]
  },
  {
   "cell_type": "code",
   "execution_count": 16,
   "id": "9ab6710b",
   "metadata": {},
   "outputs": [
    {
     "data": {
      "application/vnd.jupyter.widget-view+json": {
       "model_id": "90326a3c1b2240b5881339af70b303e9",
       "version_major": 2,
       "version_minor": 0
      },
      "text/plain": [
       "VBox()"
      ]
     },
     "metadata": {},
     "output_type": "display_data"
    },
    {
     "data": {
      "application/vnd.jupyter.widget-view+json": {
       "model_id": "",
       "version_major": 2,
       "version_minor": 0
      },
      "text/plain": [
       "FloatProgress(value=0.0, bar_style='info', description='Progress:', layout=Layout(height='25px', width='50%'),…"
      ]
     },
     "metadata": {},
     "output_type": "display_data"
    },
    {
     "name": "stdout",
     "output_type": "stream",
     "text": [
      "2468572"
     ]
    }
   ],
   "source": [
    "# Checking the number of records in the DIM_LOCATION dataframe.\n",
    "DIM_LOCATION.count()"
   ]
  },
  {
   "cell_type": "markdown",
   "id": "e4caec4d",
   "metadata": {},
   "source": [
    "### 3.1.1 DIM_LOCATION contains lot of duplicate records. So, we will go ahead and drop the duplicate records."
   ]
  },
  {
   "cell_type": "code",
   "execution_count": 17,
   "id": "a0d0dd34",
   "metadata": {},
   "outputs": [
    {
     "data": {
      "application/vnd.jupyter.widget-view+json": {
       "model_id": "a7d097058a9049ec8dbd2414502c77e0",
       "version_major": 2,
       "version_minor": 0
      },
      "text/plain": [
       "VBox()"
      ]
     },
     "metadata": {},
     "output_type": "display_data"
    },
    {
     "data": {
      "application/vnd.jupyter.widget-view+json": {
       "model_id": "",
       "version_major": 2,
       "version_minor": 0
      },
      "text/plain": [
       "FloatProgress(value=0.0, bar_style='info', description='Progress:', layout=Layout(height='25px', width='50%'),…"
      ]
     },
     "metadata": {},
     "output_type": "display_data"
    }
   ],
   "source": [
    "# Dropping the duplicate records from DIM_LOCATION dataframe.\n",
    "DIM_LOCATION = DIM_LOCATION.dropDuplicates()"
   ]
  },
  {
   "cell_type": "code",
   "execution_count": 18,
   "id": "55168de0",
   "metadata": {},
   "outputs": [
    {
     "data": {
      "application/vnd.jupyter.widget-view+json": {
       "model_id": "c8889a862c114127a19f842266ce0719",
       "version_major": 2,
       "version_minor": 0
      },
      "text/plain": [
       "VBox()"
      ]
     },
     "metadata": {},
     "output_type": "display_data"
    },
    {
     "data": {
      "application/vnd.jupyter.widget-view+json": {
       "model_id": "",
       "version_major": 2,
       "version_minor": 0
      },
      "text/plain": [
       "FloatProgress(value=0.0, bar_style='info', description='Progress:', layout=Layout(height='25px', width='50%'),…"
      ]
     },
     "metadata": {},
     "output_type": "display_data"
    },
    {
     "name": "stdout",
     "output_type": "stream",
     "text": [
      "109"
     ]
    }
   ],
   "source": [
    "# Verifying the number of records again in DIM_LOCATION dataframe.\n",
    "DIM_LOCATION.count()"
   ]
  },
  {
   "cell_type": "markdown",
   "id": "1cf12d68",
   "metadata": {},
   "source": [
    "- ### Number of records in DIM_LOCATION is 109 as given in the validation document."
   ]
  },
  {
   "cell_type": "markdown",
   "id": "c371d754",
   "metadata": {},
   "source": [
    "### 3.1.2  Adding the \"location_id\" column (Primary key) to DIM_LOCATION dataframe."
   ]
  },
  {
   "cell_type": "code",
   "execution_count": 19,
   "id": "bfa638d9",
   "metadata": {},
   "outputs": [
    {
     "data": {
      "application/vnd.jupyter.widget-view+json": {
       "model_id": "f708735339cd4e5e8f19be4642943795",
       "version_major": 2,
       "version_minor": 0
      },
      "text/plain": [
       "VBox()"
      ]
     },
     "metadata": {},
     "output_type": "display_data"
    },
    {
     "data": {
      "application/vnd.jupyter.widget-view+json": {
       "model_id": "",
       "version_major": 2,
       "version_minor": 0
      },
      "text/plain": [
       "FloatProgress(value=0.0, bar_style='info', description='Progress:', layout=Layout(height='25px', width='50%'),…"
      ]
     },
     "metadata": {},
     "output_type": "display_data"
    }
   ],
   "source": [
    "# Importing the required functions.\n",
    "from pyspark.sql.window import Window\n",
    "import pyspark.sql.functions as F\n",
    "from pyspark.sql.functions import row_number"
   ]
  },
  {
   "cell_type": "code",
   "execution_count": 20,
   "id": "1428531e",
   "metadata": {},
   "outputs": [
    {
     "data": {
      "application/vnd.jupyter.widget-view+json": {
       "model_id": "191cf56fe3074d03ada4811ece5563af",
       "version_major": 2,
       "version_minor": 0
      },
      "text/plain": [
       "VBox()"
      ]
     },
     "metadata": {},
     "output_type": "display_data"
    },
    {
     "data": {
      "application/vnd.jupyter.widget-view+json": {
       "model_id": "",
       "version_major": 2,
       "version_minor": 0
      },
      "text/plain": [
       "FloatProgress(value=0.0, bar_style='info', description='Progress:', layout=Layout(height='25px', width='50%'),…"
      ]
     },
     "metadata": {},
     "output_type": "display_data"
    }
   ],
   "source": [
    "# Adding the 'location_id' column.\n",
    "DIM_LOCATION = DIM_LOCATION.select(F.row_number().over(Window.partitionBy().orderBy(DIM_LOCATION['location'])).alias(\"location_id\"),\"location\",\"streetname\",\"street_number\",\"zipcode\",\"lat\",\"lon\")"
   ]
  },
  {
   "cell_type": "code",
   "execution_count": 21,
   "id": "dda93433",
   "metadata": {},
   "outputs": [
    {
     "data": {
      "application/vnd.jupyter.widget-view+json": {
       "model_id": "e3a7603f18ba4f1d8b6c7c857f0f65ac",
       "version_major": 2,
       "version_minor": 0
      },
      "text/plain": [
       "VBox()"
      ]
     },
     "metadata": {},
     "output_type": "display_data"
    },
    {
     "data": {
      "application/vnd.jupyter.widget-view+json": {
       "model_id": "",
       "version_major": 2,
       "version_minor": 0
      },
      "text/plain": [
       "FloatProgress(value=0.0, bar_style='info', description='Progress:', layout=Layout(height='25px', width='50%'),…"
      ]
     },
     "metadata": {},
     "output_type": "display_data"
    },
    {
     "name": "stdout",
     "output_type": "stream",
     "text": [
      "109"
     ]
    }
   ],
   "source": [
    "# Verifying the number of records again in DIM_LOCATION dataframe.\n",
    "DIM_LOCATION.count()"
   ]
  },
  {
   "cell_type": "code",
   "execution_count": 22,
   "id": "08ce8cd7",
   "metadata": {},
   "outputs": [
    {
     "data": {
      "application/vnd.jupyter.widget-view+json": {
       "model_id": "b1a0c977dc504fefb5db32d3587ccbee",
       "version_major": 2,
       "version_minor": 0
      },
      "text/plain": [
       "VBox()"
      ]
     },
     "metadata": {},
     "output_type": "display_data"
    },
    {
     "data": {
      "application/vnd.jupyter.widget-view+json": {
       "model_id": "",
       "version_major": 2,
       "version_minor": 0
      },
      "text/plain": [
       "FloatProgress(value=0.0, bar_style='info', description='Progress:', layout=Layout(height='25px', width='50%'),…"
      ]
     },
     "metadata": {},
     "output_type": "display_data"
    },
    {
     "name": "stdout",
     "output_type": "stream",
     "text": [
      "+-----------+--------------------+------------------+-------------+-------+------+------+\n",
      "|location_id|            location|        streetname|street_number|zipcode|   lat|   lon|\n",
      "+-----------+--------------------+------------------+-------------+-------+------+------+\n",
      "|          1|             Aabybro|      ÃƒËœstergade|            6|   9440|57.162|  9.73|\n",
      "|          2|      Aalborg Hallen|      Europa Plads|            4|   9000|57.044| 9.913|\n",
      "|          3|Aalborg Storcente...|          Hobrovej|          452|   9200|57.005| 9.876|\n",
      "|          4|Aalborg Storcente...|          Hobrovej|          452|   9200|57.005| 9.876|\n",
      "|          5|         Aalborg Syd|          Hobrovej|          440|   9200|57.005| 9.881|\n",
      "|          6|           AalbÃƒÂ¦k|        Centralvej|            5|   9982|57.593|10.412|\n",
      "|          7|              Aarhus|        Ceres Byen|           75|   8000|56.157|10.194|\n",
      "|          8|              Aarhus|    SÃƒÂ¸nder Alle|           11|   8000|56.153|10.206|\n",
      "|          9|     Aarhus Lufthavn|   Ny Lufthavnsvej|           24|   8560|56.308|10.627|\n",
      "|         10|                Aars|   Himmerlandsgade|           70|   9600|56.803| 9.518|\n",
      "|         11|          Abildgaard|    HjÃƒÂ¸rringvej|          144|   9900|57.447|10.506|\n",
      "|         12|               Arden|        Vestergade|            6|   9510|56.769| 9.859|\n",
      "|         13|            Bindslev|       NÃƒÂ¸rrebro|           18|   9881|57.541|  10.2|\n",
      "|         14|         Bispensgade|       Bispensgade|           35|   9800|57.453| 9.996|\n",
      "|         15|         Brugsen ANS|SÃƒÂ¸ndermarksgade|           14|   8643|56.306| 9.594|\n",
      "|         16|     Brugsen i Breum|     AakjÃƒÂ¦rsvej|            1|   7870|56.688| 9.069|\n",
      "|         17|      Bryggen  Vejle|  SÃƒÂ¸nderbrogade|            2|   7100|55.705| 9.532|\n",
      "|         18|      BrÃƒÂ¸nderslev|            Algade|            4|   9700|57.269| 9.945|\n",
      "|         19|    DAYZ Feriecenter|        LivÃƒÂ¸vej|           80|   9681|56.893| 9.171|\n",
      "|         20|Daglig Brugsen Ãƒ...|         Kystvejen|           51|   9560|56.804|10.271|\n",
      "+-----------+--------------------+------------------+-------------+-------+------+------+\n",
      "only showing top 20 rows"
     ]
    }
   ],
   "source": [
    "# Printing the top 20 rows from DIM_LOCATION dataframe.\n",
    "DIM_LOCATION.show(20)"
   ]
  },
  {
   "cell_type": "markdown",
   "id": "8b68b6c9",
   "metadata": {},
   "source": [
    "- ### 'DIM_LOCATION' is ready as per the schema provided."
   ]
  },
  {
   "cell_type": "markdown",
   "id": "9cea0b1b",
   "metadata": {},
   "source": [
    "### 3.2 DIM_CARD_TYPE"
   ]
  },
  {
   "cell_type": "code",
   "execution_count": 23,
   "id": "d5b2fe0e",
   "metadata": {},
   "outputs": [
    {
     "data": {
      "application/vnd.jupyter.widget-view+json": {
       "model_id": "c9d611b74d384423847b8d3860484076",
       "version_major": 2,
       "version_minor": 0
      },
      "text/plain": [
       "VBox()"
      ]
     },
     "metadata": {},
     "output_type": "display_data"
    },
    {
     "data": {
      "application/vnd.jupyter.widget-view+json": {
       "model_id": "",
       "version_major": 2,
       "version_minor": 0
      },
      "text/plain": [
       "FloatProgress(value=0.0, bar_style='info', description='Progress:', layout=Layout(height='25px', width='50%'),…"
      ]
     },
     "metadata": {},
     "output_type": "display_data"
    }
   ],
   "source": [
    "# Creating the DIM_CARD_TYPE dataframe.\n",
    "DIM_CARD_TYPE = atm_data1.select(\"card_type\")"
   ]
  },
  {
   "cell_type": "code",
   "execution_count": 24,
   "id": "7ffcbbf9",
   "metadata": {},
   "outputs": [
    {
     "data": {
      "application/vnd.jupyter.widget-view+json": {
       "model_id": "c491052574b54fb08a4f81a74d34bad1",
       "version_major": 2,
       "version_minor": 0
      },
      "text/plain": [
       "VBox()"
      ]
     },
     "metadata": {},
     "output_type": "display_data"
    },
    {
     "data": {
      "application/vnd.jupyter.widget-view+json": {
       "model_id": "",
       "version_major": 2,
       "version_minor": 0
      },
      "text/plain": [
       "FloatProgress(value=0.0, bar_style='info', description='Progress:', layout=Layout(height='25px', width='50%'),…"
      ]
     },
     "metadata": {},
     "output_type": "display_data"
    },
    {
     "name": "stdout",
     "output_type": "stream",
     "text": [
      "root\n",
      " |-- card_type: string (nullable = true)"
     ]
    }
   ],
   "source": [
    "# Printing the schema to check the column names and datatypes.\n",
    "DIM_CARD_TYPE.printSchema()"
   ]
  },
  {
   "cell_type": "code",
   "execution_count": 25,
   "id": "4b6d54b7",
   "metadata": {},
   "outputs": [
    {
     "data": {
      "application/vnd.jupyter.widget-view+json": {
       "model_id": "36adc71646d94824b325b25702578710",
       "version_major": 2,
       "version_minor": 0
      },
      "text/plain": [
       "VBox()"
      ]
     },
     "metadata": {},
     "output_type": "display_data"
    },
    {
     "data": {
      "application/vnd.jupyter.widget-view+json": {
       "model_id": "",
       "version_major": 2,
       "version_minor": 0
      },
      "text/plain": [
       "FloatProgress(value=0.0, bar_style='info', description='Progress:', layout=Layout(height='25px', width='50%'),…"
      ]
     },
     "metadata": {},
     "output_type": "display_data"
    },
    {
     "name": "stdout",
     "output_type": "stream",
     "text": [
      "2468572"
     ]
    }
   ],
   "source": [
    "# Checking the number of records in the DIM_CARD_TYPE dataframe.\n",
    "DIM_CARD_TYPE.count()"
   ]
  },
  {
   "cell_type": "markdown",
   "id": "35ad22bf",
   "metadata": {},
   "source": [
    "### 3.2.1  DIM_CARD_TYPE contains lot of duplicate records. So, we will go ahead and drop the duplicate records."
   ]
  },
  {
   "cell_type": "code",
   "execution_count": 26,
   "id": "a7513764",
   "metadata": {},
   "outputs": [
    {
     "data": {
      "application/vnd.jupyter.widget-view+json": {
       "model_id": "c2defe172f8e42f3bf38d07ef99f298a",
       "version_major": 2,
       "version_minor": 0
      },
      "text/plain": [
       "VBox()"
      ]
     },
     "metadata": {},
     "output_type": "display_data"
    },
    {
     "data": {
      "application/vnd.jupyter.widget-view+json": {
       "model_id": "",
       "version_major": 2,
       "version_minor": 0
      },
      "text/plain": [
       "FloatProgress(value=0.0, bar_style='info', description='Progress:', layout=Layout(height='25px', width='50%'),…"
      ]
     },
     "metadata": {},
     "output_type": "display_data"
    }
   ],
   "source": [
    "# Dropping the duplicate records from DIM_CARD_TYPE dataframe.\n",
    "DIM_CARD_TYPE = DIM_CARD_TYPE.dropDuplicates()"
   ]
  },
  {
   "cell_type": "code",
   "execution_count": 27,
   "id": "b920a365",
   "metadata": {},
   "outputs": [
    {
     "data": {
      "application/vnd.jupyter.widget-view+json": {
       "model_id": "8c4446a42c4f4228a52bc9fc6760b825",
       "version_major": 2,
       "version_minor": 0
      },
      "text/plain": [
       "VBox()"
      ]
     },
     "metadata": {},
     "output_type": "display_data"
    },
    {
     "data": {
      "application/vnd.jupyter.widget-view+json": {
       "model_id": "",
       "version_major": 2,
       "version_minor": 0
      },
      "text/plain": [
       "FloatProgress(value=0.0, bar_style='info', description='Progress:', layout=Layout(height='25px', width='50%'),…"
      ]
     },
     "metadata": {},
     "output_type": "display_data"
    },
    {
     "name": "stdout",
     "output_type": "stream",
     "text": [
      "12"
     ]
    }
   ],
   "source": [
    "# Verifying the number of records in the DIM_CARD_TYPE dataframe.\n",
    "DIM_CARD_TYPE.count()"
   ]
  },
  {
   "cell_type": "markdown",
   "id": "78849277",
   "metadata": {},
   "source": [
    "- ### Number of records in DIM_CARD_TYPE is 12 as given in the validation document."
   ]
  },
  {
   "cell_type": "markdown",
   "id": "c394ca11",
   "metadata": {},
   "source": [
    "### 3.2.2  Adding the \"card_type_id\" column (Primary key) to DIM_CARD_TYPE dataframe."
   ]
  },
  {
   "cell_type": "code",
   "execution_count": 28,
   "id": "936b29ed",
   "metadata": {},
   "outputs": [
    {
     "data": {
      "application/vnd.jupyter.widget-view+json": {
       "model_id": "feed26c8dfc9435cbea1c8e8a48f709c",
       "version_major": 2,
       "version_minor": 0
      },
      "text/plain": [
       "VBox()"
      ]
     },
     "metadata": {},
     "output_type": "display_data"
    },
    {
     "data": {
      "application/vnd.jupyter.widget-view+json": {
       "model_id": "",
       "version_major": 2,
       "version_minor": 0
      },
      "text/plain": [
       "FloatProgress(value=0.0, bar_style='info', description='Progress:', layout=Layout(height='25px', width='50%'),…"
      ]
     },
     "metadata": {},
     "output_type": "display_data"
    }
   ],
   "source": [
    "# Adding the 'card_type_id' column.\n",
    "DIM_CARD_TYPE = DIM_CARD_TYPE.select(F.row_number().over(Window.partitionBy().orderBy(DIM_CARD_TYPE['card_type'])).alias(\"card_type_id\"),\"card_type\")"
   ]
  },
  {
   "cell_type": "code",
   "execution_count": 29,
   "id": "15f3ef49",
   "metadata": {},
   "outputs": [
    {
     "data": {
      "application/vnd.jupyter.widget-view+json": {
       "model_id": "cace168b4fb04bff9a04616bf17937dc",
       "version_major": 2,
       "version_minor": 0
      },
      "text/plain": [
       "VBox()"
      ]
     },
     "metadata": {},
     "output_type": "display_data"
    },
    {
     "data": {
      "application/vnd.jupyter.widget-view+json": {
       "model_id": "",
       "version_major": 2,
       "version_minor": 0
      },
      "text/plain": [
       "FloatProgress(value=0.0, bar_style='info', description='Progress:', layout=Layout(height='25px', width='50%'),…"
      ]
     },
     "metadata": {},
     "output_type": "display_data"
    },
    {
     "name": "stdout",
     "output_type": "stream",
     "text": [
      "12"
     ]
    }
   ],
   "source": [
    "# Verifying the number of records in the DIM_CARD_TYPE dataframe.\n",
    "DIM_CARD_TYPE.count()"
   ]
  },
  {
   "cell_type": "code",
   "execution_count": 30,
   "id": "cc350a49",
   "metadata": {},
   "outputs": [
    {
     "data": {
      "application/vnd.jupyter.widget-view+json": {
       "model_id": "555b8f5e6d624f5a9b0866e0a4a863c8",
       "version_major": 2,
       "version_minor": 0
      },
      "text/plain": [
       "VBox()"
      ]
     },
     "metadata": {},
     "output_type": "display_data"
    },
    {
     "data": {
      "application/vnd.jupyter.widget-view+json": {
       "model_id": "",
       "version_major": 2,
       "version_minor": 0
      },
      "text/plain": [
       "FloatProgress(value=0.0, bar_style='info', description='Progress:', layout=Layout(height='25px', width='50%'),…"
      ]
     },
     "metadata": {},
     "output_type": "display_data"
    },
    {
     "name": "stdout",
     "output_type": "stream",
     "text": [
      "+------------+--------------------+\n",
      "|card_type_id|           card_type|\n",
      "+------------+--------------------+\n",
      "|           1|              CIRRUS|\n",
      "|           2|             Dankort|\n",
      "|           3|     Dankort - on-us|\n",
      "|           4|         HÃƒÂ¦vekort|\n",
      "|           5| HÃƒÂ¦vekort - on-us|\n",
      "|           6|             Maestro|\n",
      "|           7|          MasterCard|\n",
      "|           8|  Mastercard - on-us|\n",
      "|           9|                VISA|\n",
      "|          10|        Visa Dankort|\n",
      "|          11|Visa Dankort - on-us|\n",
      "|          12|            VisaPlus|\n",
      "+------------+--------------------+"
     ]
    }
   ],
   "source": [
    "# Printing all the rows from DIM_CARD_TYPE dataframe.\n",
    "DIM_CARD_TYPE.show()"
   ]
  },
  {
   "cell_type": "markdown",
   "id": "89121e40",
   "metadata": {},
   "source": [
    "- ### 'DIM_CARD_TYPE' is ready as per the schema provided."
   ]
  },
  {
   "cell_type": "markdown",
   "id": "1134b22d",
   "metadata": {},
   "source": [
    "### 3.3 DIM_DATE"
   ]
  },
  {
   "cell_type": "code",
   "execution_count": 31,
   "id": "e7e624d1",
   "metadata": {},
   "outputs": [
    {
     "data": {
      "application/vnd.jupyter.widget-view+json": {
       "model_id": "59aa17cef5584b369861702b047bef9e",
       "version_major": 2,
       "version_minor": 0
      },
      "text/plain": [
       "VBox()"
      ]
     },
     "metadata": {},
     "output_type": "display_data"
    },
    {
     "data": {
      "application/vnd.jupyter.widget-view+json": {
       "model_id": "",
       "version_major": 2,
       "version_minor": 0
      },
      "text/plain": [
       "FloatProgress(value=0.0, bar_style='info', description='Progress:', layout=Layout(height='25px', width='50%'),…"
      ]
     },
     "metadata": {},
     "output_type": "display_data"
    }
   ],
   "source": [
    "# Creating the DIM_DATE dataframe.\n",
    "DIM_DATE = atm_data1.select(\"year\",\"month\",\"day\",\"hour\",\"weekday\")"
   ]
  },
  {
   "cell_type": "code",
   "execution_count": 32,
   "id": "8ad64d45",
   "metadata": {},
   "outputs": [
    {
     "data": {
      "application/vnd.jupyter.widget-view+json": {
       "model_id": "b05bf68b5aaf4d3b8701a28ba2e521ba",
       "version_major": 2,
       "version_minor": 0
      },
      "text/plain": [
       "VBox()"
      ]
     },
     "metadata": {},
     "output_type": "display_data"
    },
    {
     "data": {
      "application/vnd.jupyter.widget-view+json": {
       "model_id": "",
       "version_major": 2,
       "version_minor": 0
      },
      "text/plain": [
       "FloatProgress(value=0.0, bar_style='info', description='Progress:', layout=Layout(height='25px', width='50%'),…"
      ]
     },
     "metadata": {},
     "output_type": "display_data"
    },
    {
     "name": "stdout",
     "output_type": "stream",
     "text": [
      "root\n",
      " |-- year: integer (nullable = true)\n",
      " |-- month: string (nullable = true)\n",
      " |-- day: integer (nullable = true)\n",
      " |-- hour: integer (nullable = true)\n",
      " |-- weekday: string (nullable = true)"
     ]
    }
   ],
   "source": [
    "# Printing the schema to check the column names and datatypes.\n",
    "DIM_DATE.printSchema()"
   ]
  },
  {
   "cell_type": "code",
   "execution_count": 33,
   "id": "2e2f06b5",
   "metadata": {},
   "outputs": [
    {
     "data": {
      "application/vnd.jupyter.widget-view+json": {
       "model_id": "c50d0c2c20494512b100104f982ecf2f",
       "version_major": 2,
       "version_minor": 0
      },
      "text/plain": [
       "VBox()"
      ]
     },
     "metadata": {},
     "output_type": "display_data"
    },
    {
     "data": {
      "application/vnd.jupyter.widget-view+json": {
       "model_id": "",
       "version_major": 2,
       "version_minor": 0
      },
      "text/plain": [
       "FloatProgress(value=0.0, bar_style='info', description='Progress:', layout=Layout(height='25px', width='50%'),…"
      ]
     },
     "metadata": {},
     "output_type": "display_data"
    },
    {
     "name": "stdout",
     "output_type": "stream",
     "text": [
      "2468572"
     ]
    }
   ],
   "source": [
    "# Checking the number of records in the DIM_DATE dataframe.\n",
    "DIM_DATE.count()"
   ]
  },
  {
   "cell_type": "markdown",
   "id": "3cc2653d",
   "metadata": {},
   "source": [
    "### 3.3.1  DIM_DATE contains lot of duplicate records. So, we will go ahead and drop the duplicate records."
   ]
  },
  {
   "cell_type": "code",
   "execution_count": 34,
   "id": "08bac794",
   "metadata": {},
   "outputs": [
    {
     "data": {
      "application/vnd.jupyter.widget-view+json": {
       "model_id": "5944db8b5fc8457a8ba2b3f32bfbf2a0",
       "version_major": 2,
       "version_minor": 0
      },
      "text/plain": [
       "VBox()"
      ]
     },
     "metadata": {},
     "output_type": "display_data"
    },
    {
     "data": {
      "application/vnd.jupyter.widget-view+json": {
       "model_id": "",
       "version_major": 2,
       "version_minor": 0
      },
      "text/plain": [
       "FloatProgress(value=0.0, bar_style='info', description='Progress:', layout=Layout(height='25px', width='50%'),…"
      ]
     },
     "metadata": {},
     "output_type": "display_data"
    }
   ],
   "source": [
    "# Dropping the duplicate records from DIM_DATE dataframe.\n",
    "DIM_DATE = DIM_DATE.dropDuplicates()"
   ]
  },
  {
   "cell_type": "code",
   "execution_count": 35,
   "id": "8f9dd83d",
   "metadata": {},
   "outputs": [
    {
     "data": {
      "application/vnd.jupyter.widget-view+json": {
       "model_id": "910a5acb031b44dab5ec397a49e0600f",
       "version_major": 2,
       "version_minor": 0
      },
      "text/plain": [
       "VBox()"
      ]
     },
     "metadata": {},
     "output_type": "display_data"
    },
    {
     "data": {
      "application/vnd.jupyter.widget-view+json": {
       "model_id": "",
       "version_major": 2,
       "version_minor": 0
      },
      "text/plain": [
       "FloatProgress(value=0.0, bar_style='info', description='Progress:', layout=Layout(height='25px', width='50%'),…"
      ]
     },
     "metadata": {},
     "output_type": "display_data"
    },
    {
     "name": "stdout",
     "output_type": "stream",
     "text": [
      "8685"
     ]
    }
   ],
   "source": [
    "# Verifying the number of records in the DIM_DATE dataframe.\n",
    "DIM_DATE.count()"
   ]
  },
  {
   "cell_type": "code",
   "execution_count": 36,
   "id": "10a946d3",
   "metadata": {},
   "outputs": [
    {
     "data": {
      "application/vnd.jupyter.widget-view+json": {
       "model_id": "b90e7566580a4764994ccdc2fe61c2a2",
       "version_major": 2,
       "version_minor": 0
      },
      "text/plain": [
       "VBox()"
      ]
     },
     "metadata": {},
     "output_type": "display_data"
    },
    {
     "data": {
      "application/vnd.jupyter.widget-view+json": {
       "model_id": "",
       "version_major": 2,
       "version_minor": 0
      },
      "text/plain": [
       "FloatProgress(value=0.0, bar_style='info', description='Progress:', layout=Layout(height='25px', width='50%'),…"
      ]
     },
     "metadata": {},
     "output_type": "display_data"
    },
    {
     "name": "stdout",
     "output_type": "stream",
     "text": [
      "+----+-------+---+----+--------+\n",
      "|year|  month|day|hour| weekday|\n",
      "+----+-------+---+----+--------+\n",
      "|2017|January|  5|  21|Thursday|\n",
      "|2017|January| 22|  15|  Sunday|\n",
      "|2017|  April|  7|   9|  Friday|\n",
      "|2017|January| 23|  18|  Monday|\n",
      "|2017|  March| 17|   1|  Friday|\n",
      "+----+-------+---+----+--------+\n",
      "only showing top 5 rows"
     ]
    }
   ],
   "source": [
    "# Printing first 5 rows for reference.\n",
    "DIM_DATE.show(5)"
   ]
  },
  {
   "cell_type": "markdown",
   "id": "baa324eb",
   "metadata": {},
   "source": [
    "- ### Number of records in DIM_DATE is 8685 as given in the validation document."
   ]
  },
  {
   "cell_type": "markdown",
   "id": "64fdabe1",
   "metadata": {},
   "source": [
    "### 3.3.2  Adding the full_date_time column to the DIM_DATE dataframe."
   ]
  },
  {
   "cell_type": "code",
   "execution_count": 37,
   "id": "c8492295",
   "metadata": {},
   "outputs": [
    {
     "data": {
      "application/vnd.jupyter.widget-view+json": {
       "model_id": "1b5e84fec39247ef838eb758c25ea85c",
       "version_major": 2,
       "version_minor": 0
      },
      "text/plain": [
       "VBox()"
      ]
     },
     "metadata": {},
     "output_type": "display_data"
    },
    {
     "data": {
      "application/vnd.jupyter.widget-view+json": {
       "model_id": "",
       "version_major": 2,
       "version_minor": 0
      },
      "text/plain": [
       "FloatProgress(value=0.0, bar_style='info', description='Progress:', layout=Layout(height='25px', width='50%'),…"
      ]
     },
     "metadata": {},
     "output_type": "display_data"
    }
   ],
   "source": [
    "# Importing the required sql functions\n",
    "from pyspark.sql.functions import concat,col\n",
    "from pyspark.sql.functions import concat_ws,col"
   ]
  },
  {
   "cell_type": "code",
   "execution_count": 38,
   "id": "9fc6bde3",
   "metadata": {},
   "outputs": [
    {
     "data": {
      "application/vnd.jupyter.widget-view+json": {
       "model_id": "45978cb7a3ed466ca4f0999a52bb4b3a",
       "version_major": 2,
       "version_minor": 0
      },
      "text/plain": [
       "VBox()"
      ]
     },
     "metadata": {},
     "output_type": "display_data"
    },
    {
     "data": {
      "application/vnd.jupyter.widget-view+json": {
       "model_id": "",
       "version_major": 2,
       "version_minor": 0
      },
      "text/plain": [
       "FloatProgress(value=0.0, bar_style='info', description='Progress:', layout=Layout(height='25px', width='50%'),…"
      ]
     },
     "metadata": {},
     "output_type": "display_data"
    }
   ],
   "source": [
    "# Adding the 'full_date_time' column to the DIM_DATE dataframe.\n",
    "DIM_DATE = DIM_DATE.select(concat_ws('/',\"year\",\"month\",\"day\",\"hour\").alias(\"full_date_time\"),\"year\",\"month\",\"day\",\"hour\",\"weekday\")"
   ]
  },
  {
   "cell_type": "code",
   "execution_count": 39,
   "id": "642ae90b",
   "metadata": {},
   "outputs": [
    {
     "data": {
      "application/vnd.jupyter.widget-view+json": {
       "model_id": "fe454ef71cef43aa9d8ab7623aaf6084",
       "version_major": 2,
       "version_minor": 0
      },
      "text/plain": [
       "VBox()"
      ]
     },
     "metadata": {},
     "output_type": "display_data"
    },
    {
     "data": {
      "application/vnd.jupyter.widget-view+json": {
       "model_id": "",
       "version_major": 2,
       "version_minor": 0
      },
      "text/plain": [
       "FloatProgress(value=0.0, bar_style='info', description='Progress:', layout=Layout(height='25px', width='50%'),…"
      ]
     },
     "metadata": {},
     "output_type": "display_data"
    },
    {
     "name": "stdout",
     "output_type": "stream",
     "text": [
      "root\n",
      " |-- full_date_time: string (nullable = false)\n",
      " |-- year: integer (nullable = true)\n",
      " |-- month: string (nullable = true)\n",
      " |-- day: integer (nullable = true)\n",
      " |-- hour: integer (nullable = true)\n",
      " |-- weekday: string (nullable = true)"
     ]
    }
   ],
   "source": [
    "# Printing the schema to check the datatype.\n",
    "DIM_DATE.printSchema()"
   ]
  },
  {
   "cell_type": "markdown",
   "id": "587d5e8d",
   "metadata": {},
   "source": [
    "### 3.3.3  Data type of 'full_date_time' column is string. Now, we will change the datatype of 'full_date_time' column to TIMESTAMP."
   ]
  },
  {
   "cell_type": "code",
   "execution_count": 40,
   "id": "be9bfc3a",
   "metadata": {},
   "outputs": [
    {
     "data": {
      "application/vnd.jupyter.widget-view+json": {
       "model_id": "2cf173e36ee7491ab3aacf89cd25ded8",
       "version_major": 2,
       "version_minor": 0
      },
      "text/plain": [
       "VBox()"
      ]
     },
     "metadata": {},
     "output_type": "display_data"
    },
    {
     "data": {
      "application/vnd.jupyter.widget-view+json": {
       "model_id": "",
       "version_major": 2,
       "version_minor": 0
      },
      "text/plain": [
       "FloatProgress(value=0.0, bar_style='info', description='Progress:', layout=Layout(height='25px', width='50%'),…"
      ]
     },
     "metadata": {},
     "output_type": "display_data"
    },
    {
     "name": "stdout",
     "output_type": "stream",
     "text": [
      "+------------------+----+-------+---+----+--------+\n",
      "|    full_date_time|year|  month|day|hour| weekday|\n",
      "+------------------+----+-------+---+----+--------+\n",
      "| 2017/January/5/21|2017|January|  5|  21|Thursday|\n",
      "|2017/January/22/15|2017|January| 22|  15|  Sunday|\n",
      "|    2017/April/7/9|2017|  April|  7|   9|  Friday|\n",
      "|2017/January/23/18|2017|January| 23|  18|  Monday|\n",
      "|   2017/March/17/1|2017|  March| 17|   1|  Friday|\n",
      "+------------------+----+-------+---+----+--------+\n",
      "only showing top 5 rows"
     ]
    }
   ],
   "source": [
    "# Printing first 5 rows for reference.\n",
    "DIM_DATE.show(5)"
   ]
  },
  {
   "cell_type": "code",
   "execution_count": 41,
   "id": "4091c1c2",
   "metadata": {},
   "outputs": [
    {
     "data": {
      "application/vnd.jupyter.widget-view+json": {
       "model_id": "64e9e8fefda647449f3e9f75bd196026",
       "version_major": 2,
       "version_minor": 0
      },
      "text/plain": [
       "VBox()"
      ]
     },
     "metadata": {},
     "output_type": "display_data"
    },
    {
     "data": {
      "application/vnd.jupyter.widget-view+json": {
       "model_id": "",
       "version_major": 2,
       "version_minor": 0
      },
      "text/plain": [
       "FloatProgress(value=0.0, bar_style='info', description='Progress:', layout=Layout(height='25px', width='50%'),…"
      ]
     },
     "metadata": {},
     "output_type": "display_data"
    }
   ],
   "source": [
    "# Importing everything from pyspark.sql.functions\n",
    "from pyspark.sql.functions import *"
   ]
  },
  {
   "cell_type": "code",
   "execution_count": 42,
   "id": "038e9b1c",
   "metadata": {},
   "outputs": [
    {
     "data": {
      "application/vnd.jupyter.widget-view+json": {
       "model_id": "8bd39c3853ba4116aaa58fa677669188",
       "version_major": 2,
       "version_minor": 0
      },
      "text/plain": [
       "VBox()"
      ]
     },
     "metadata": {},
     "output_type": "display_data"
    },
    {
     "data": {
      "application/vnd.jupyter.widget-view+json": {
       "model_id": "",
       "version_major": 2,
       "version_minor": 0
      },
      "text/plain": [
       "FloatProgress(value=0.0, bar_style='info', description='Progress:', layout=Layout(height='25px', width='50%'),…"
      ]
     },
     "metadata": {},
     "output_type": "display_data"
    }
   ],
   "source": [
    "# Making a pattern for timestamp and converting the 'full_date_time' column to TIMESTAMP datatype.\n",
    "pattern1 = 'yyyy/MMM/dd/HH'\n",
    "DIM_DATE = DIM_DATE.withColumn('full_date_time', unix_timestamp(DIM_DATE['full_date_time'], pattern1).cast('timestamp'))"
   ]
  },
  {
   "cell_type": "code",
   "execution_count": 43,
   "id": "061bae0b",
   "metadata": {},
   "outputs": [
    {
     "data": {
      "application/vnd.jupyter.widget-view+json": {
       "model_id": "0aa99560c3a1421986b66560a2aead98",
       "version_major": 2,
       "version_minor": 0
      },
      "text/plain": [
       "VBox()"
      ]
     },
     "metadata": {},
     "output_type": "display_data"
    },
    {
     "data": {
      "application/vnd.jupyter.widget-view+json": {
       "model_id": "",
       "version_major": 2,
       "version_minor": 0
      },
      "text/plain": [
       "FloatProgress(value=0.0, bar_style='info', description='Progress:', layout=Layout(height='25px', width='50%'),…"
      ]
     },
     "metadata": {},
     "output_type": "display_data"
    },
    {
     "name": "stdout",
     "output_type": "stream",
     "text": [
      "root\n",
      " |-- full_date_time: timestamp (nullable = true)\n",
      " |-- year: integer (nullable = true)\n",
      " |-- month: string (nullable = true)\n",
      " |-- day: integer (nullable = true)\n",
      " |-- hour: integer (nullable = true)\n",
      " |-- weekday: string (nullable = true)"
     ]
    }
   ],
   "source": [
    "# Verifying the datatype change.\n",
    "DIM_DATE.printSchema()"
   ]
  },
  {
   "cell_type": "code",
   "execution_count": 44,
   "id": "7e58454f",
   "metadata": {},
   "outputs": [
    {
     "data": {
      "application/vnd.jupyter.widget-view+json": {
       "model_id": "a1390b3ece4e42caa61abef2ea5f6121",
       "version_major": 2,
       "version_minor": 0
      },
      "text/plain": [
       "VBox()"
      ]
     },
     "metadata": {},
     "output_type": "display_data"
    },
    {
     "data": {
      "application/vnd.jupyter.widget-view+json": {
       "model_id": "",
       "version_major": 2,
       "version_minor": 0
      },
      "text/plain": [
       "FloatProgress(value=0.0, bar_style='info', description='Progress:', layout=Layout(height='25px', width='50%'),…"
      ]
     },
     "metadata": {},
     "output_type": "display_data"
    },
    {
     "name": "stdout",
     "output_type": "stream",
     "text": [
      "+-------------------+----+-------+---+----+--------+\n",
      "|     full_date_time|year|  month|day|hour| weekday|\n",
      "+-------------------+----+-------+---+----+--------+\n",
      "|2017-01-05 21:00:00|2017|January|  5|  21|Thursday|\n",
      "|2017-01-22 15:00:00|2017|January| 22|  15|  Sunday|\n",
      "|2017-04-07 09:00:00|2017|  April|  7|   9|  Friday|\n",
      "|2017-01-23 18:00:00|2017|January| 23|  18|  Monday|\n",
      "|2017-03-17 01:00:00|2017|  March| 17|   1|  Friday|\n",
      "+-------------------+----+-------+---+----+--------+\n",
      "only showing top 5 rows"
     ]
    }
   ],
   "source": [
    "# Printing first 5 rows for reference.\n",
    "DIM_DATE.show(5)"
   ]
  },
  {
   "cell_type": "markdown",
   "id": "8a205f7e",
   "metadata": {},
   "source": [
    "- ### Datatype for 'full_date_time' column is successfully changed to TIMESTAMP."
   ]
  },
  {
   "cell_type": "markdown",
   "id": "f3f57caf",
   "metadata": {},
   "source": [
    "### 3.3.4  Adding the \"date_id\" column (Primary key) to DIM_DATE dataframe."
   ]
  },
  {
   "cell_type": "code",
   "execution_count": 45,
   "id": "078c8a71",
   "metadata": {},
   "outputs": [
    {
     "data": {
      "application/vnd.jupyter.widget-view+json": {
       "model_id": "37967811e628401da6603e30efd6978a",
       "version_major": 2,
       "version_minor": 0
      },
      "text/plain": [
       "VBox()"
      ]
     },
     "metadata": {},
     "output_type": "display_data"
    },
    {
     "data": {
      "application/vnd.jupyter.widget-view+json": {
       "model_id": "",
       "version_major": 2,
       "version_minor": 0
      },
      "text/plain": [
       "FloatProgress(value=0.0, bar_style='info', description='Progress:', layout=Layout(height='25px', width='50%'),…"
      ]
     },
     "metadata": {},
     "output_type": "display_data"
    }
   ],
   "source": [
    "# Adding the 'date_id' column.\n",
    "DIM_DATE = DIM_DATE.select(F.row_number().over(Window.partitionBy().orderBy(DIM_DATE['year'])).alias(\"date_id\"),\"full_date_time\",\"year\",\"month\",\"day\",\"hour\",\"weekday\")"
   ]
  },
  {
   "cell_type": "code",
   "execution_count": 46,
   "id": "55574d9b",
   "metadata": {},
   "outputs": [
    {
     "data": {
      "application/vnd.jupyter.widget-view+json": {
       "model_id": "18eca708a00b48078f62621e28b61cc3",
       "version_major": 2,
       "version_minor": 0
      },
      "text/plain": [
       "VBox()"
      ]
     },
     "metadata": {},
     "output_type": "display_data"
    },
    {
     "data": {
      "application/vnd.jupyter.widget-view+json": {
       "model_id": "",
       "version_major": 2,
       "version_minor": 0
      },
      "text/plain": [
       "FloatProgress(value=0.0, bar_style='info', description='Progress:', layout=Layout(height='25px', width='50%'),…"
      ]
     },
     "metadata": {},
     "output_type": "display_data"
    },
    {
     "name": "stdout",
     "output_type": "stream",
     "text": [
      "8685"
     ]
    }
   ],
   "source": [
    "# Verifying the number of records in the DIM_DATE dataframe.\n",
    "DIM_DATE.count()"
   ]
  },
  {
   "cell_type": "code",
   "execution_count": 47,
   "id": "53f2c2df",
   "metadata": {
    "scrolled": true
   },
   "outputs": [
    {
     "data": {
      "application/vnd.jupyter.widget-view+json": {
       "model_id": "4319e5c314fd48c782ac67831918b6c8",
       "version_major": 2,
       "version_minor": 0
      },
      "text/plain": [
       "VBox()"
      ]
     },
     "metadata": {},
     "output_type": "display_data"
    },
    {
     "data": {
      "application/vnd.jupyter.widget-view+json": {
       "model_id": "",
       "version_major": 2,
       "version_minor": 0
      },
      "text/plain": [
       "FloatProgress(value=0.0, bar_style='info', description='Progress:', layout=Layout(height='25px', width='50%'),…"
      ]
     },
     "metadata": {},
     "output_type": "display_data"
    },
    {
     "name": "stdout",
     "output_type": "stream",
     "text": [
      "+-------+-------------------+----+-------+---+----+---------+\n",
      "|date_id|     full_date_time|year|  month|day|hour|  weekday|\n",
      "+-------+-------------------+----+-------+---+----+---------+\n",
      "|      1|2017-01-05 21:00:00|2017|January|  5|  21| Thursday|\n",
      "|      2|2017-01-22 15:00:00|2017|January| 22|  15|   Sunday|\n",
      "|      3|2017-04-07 09:00:00|2017|  April|  7|   9|   Friday|\n",
      "|      4|2017-01-23 18:00:00|2017|January| 23|  18|   Monday|\n",
      "|      5|2017-03-17 01:00:00|2017|  March| 17|   1|   Friday|\n",
      "|      6|2017-03-27 13:00:00|2017|  March| 27|  13|   Monday|\n",
      "|      7|2017-03-29 07:00:00|2017|  March| 29|   7|Wednesday|\n",
      "|      8|2017-03-04 08:00:00|2017|  March|  4|   8| Saturday|\n",
      "|      9|2017-03-12 12:00:00|2017|  March| 12|  12|   Sunday|\n",
      "|     10|2017-01-04 04:00:00|2017|January|  4|   4|Wednesday|\n",
      "+-------+-------------------+----+-------+---+----+---------+\n",
      "only showing top 10 rows"
     ]
    }
   ],
   "source": [
    "# Printing the first 10 rows from DIM_DATE dataframe.\n",
    "DIM_DATE.show(10)"
   ]
  },
  {
   "cell_type": "markdown",
   "id": "ca1825e3",
   "metadata": {},
   "source": [
    "- ### 'DIM_DATE' is ready as per the schema provided."
   ]
  },
  {
   "cell_type": "markdown",
   "id": "a2aff8ec",
   "metadata": {},
   "source": [
    "### 3.4 DIM_ATM"
   ]
  },
  {
   "cell_type": "code",
   "execution_count": 48,
   "id": "df179676",
   "metadata": {},
   "outputs": [
    {
     "data": {
      "application/vnd.jupyter.widget-view+json": {
       "model_id": "f0495a254b864ed8b8f41af2ad88e6ce",
       "version_major": 2,
       "version_minor": 0
      },
      "text/plain": [
       "VBox()"
      ]
     },
     "metadata": {},
     "output_type": "display_data"
    },
    {
     "data": {
      "application/vnd.jupyter.widget-view+json": {
       "model_id": "",
       "version_major": 2,
       "version_minor": 0
      },
      "text/plain": [
       "FloatProgress(value=0.0, bar_style='info', description='Progress:', layout=Layout(height='25px', width='50%'),…"
      ]
     },
     "metadata": {},
     "output_type": "display_data"
    }
   ],
   "source": [
    "# Creating the DIM_ATM dataframe.\n",
    "DIM_ATM = atm_data1.select(\"atm_id\",\"atm_manufacturer\",\"atm_location\",\"atm_streetname\",\"atm_street_number\",\"atm_zipcode\",\"atm_lat\",\"atm_lon\")"
   ]
  },
  {
   "cell_type": "code",
   "execution_count": 49,
   "id": "5c0e8338",
   "metadata": {},
   "outputs": [
    {
     "data": {
      "application/vnd.jupyter.widget-view+json": {
       "model_id": "772438e6fbb243d7a4e5acdd038dda7a",
       "version_major": 2,
       "version_minor": 0
      },
      "text/plain": [
       "VBox()"
      ]
     },
     "metadata": {},
     "output_type": "display_data"
    },
    {
     "data": {
      "application/vnd.jupyter.widget-view+json": {
       "model_id": "",
       "version_major": 2,
       "version_minor": 0
      },
      "text/plain": [
       "FloatProgress(value=0.0, bar_style='info', description='Progress:', layout=Layout(height='25px', width='50%'),…"
      ]
     },
     "metadata": {},
     "output_type": "display_data"
    },
    {
     "name": "stdout",
     "output_type": "stream",
     "text": [
      "root\n",
      " |-- atm_id: string (nullable = true)\n",
      " |-- atm_manufacturer: string (nullable = true)\n",
      " |-- atm_location: string (nullable = true)\n",
      " |-- atm_streetname: string (nullable = true)\n",
      " |-- atm_street_number: integer (nullable = true)\n",
      " |-- atm_zipcode: integer (nullable = true)\n",
      " |-- atm_lat: double (nullable = true)\n",
      " |-- atm_lon: double (nullable = true)"
     ]
    }
   ],
   "source": [
    "# Printing the schema to check the column names and datatypes.\n",
    "DIM_ATM.printSchema()"
   ]
  },
  {
   "cell_type": "markdown",
   "id": "e49d2940",
   "metadata": {},
   "source": [
    "### 3.4.1  Renaming the 'atm_id' column to 'atm_number'."
   ]
  },
  {
   "cell_type": "code",
   "execution_count": 50,
   "id": "101a9582",
   "metadata": {},
   "outputs": [
    {
     "data": {
      "application/vnd.jupyter.widget-view+json": {
       "model_id": "af6217934d5a4a4094c990891e411b65",
       "version_major": 2,
       "version_minor": 0
      },
      "text/plain": [
       "VBox()"
      ]
     },
     "metadata": {},
     "output_type": "display_data"
    },
    {
     "data": {
      "application/vnd.jupyter.widget-view+json": {
       "model_id": "",
       "version_major": 2,
       "version_minor": 0
      },
      "text/plain": [
       "FloatProgress(value=0.0, bar_style='info', description='Progress:', layout=Layout(height='25px', width='50%'),…"
      ]
     },
     "metadata": {},
     "output_type": "display_data"
    }
   ],
   "source": [
    "# Renaming the 'atm_id' column to 'atm_number'.\n",
    "DIM_ATM = DIM_ATM.withColumnRenamed(\"atm_id\",\"atm_number\")"
   ]
  },
  {
   "cell_type": "code",
   "execution_count": 51,
   "id": "da303e27",
   "metadata": {},
   "outputs": [
    {
     "data": {
      "application/vnd.jupyter.widget-view+json": {
       "model_id": "c8a15d05490b4f48a3370f8c77bf1cf4",
       "version_major": 2,
       "version_minor": 0
      },
      "text/plain": [
       "VBox()"
      ]
     },
     "metadata": {},
     "output_type": "display_data"
    },
    {
     "data": {
      "application/vnd.jupyter.widget-view+json": {
       "model_id": "",
       "version_major": 2,
       "version_minor": 0
      },
      "text/plain": [
       "FloatProgress(value=0.0, bar_style='info', description='Progress:', layout=Layout(height='25px', width='50%'),…"
      ]
     },
     "metadata": {},
     "output_type": "display_data"
    },
    {
     "name": "stdout",
     "output_type": "stream",
     "text": [
      "root\n",
      " |-- atm_number: string (nullable = true)\n",
      " |-- atm_manufacturer: string (nullable = true)\n",
      " |-- atm_location: string (nullable = true)\n",
      " |-- atm_streetname: string (nullable = true)\n",
      " |-- atm_street_number: integer (nullable = true)\n",
      " |-- atm_zipcode: integer (nullable = true)\n",
      " |-- atm_lat: double (nullable = true)\n",
      " |-- atm_lon: double (nullable = true)"
     ]
    }
   ],
   "source": [
    "# Printing the schema to check the column names and datatypes.\n",
    "DIM_ATM.printSchema()"
   ]
  },
  {
   "cell_type": "code",
   "execution_count": 52,
   "id": "10c5e341",
   "metadata": {},
   "outputs": [
    {
     "data": {
      "application/vnd.jupyter.widget-view+json": {
       "model_id": "585dc8969ee745158b93ba75496c81af",
       "version_major": 2,
       "version_minor": 0
      },
      "text/plain": [
       "VBox()"
      ]
     },
     "metadata": {},
     "output_type": "display_data"
    },
    {
     "data": {
      "application/vnd.jupyter.widget-view+json": {
       "model_id": "",
       "version_major": 2,
       "version_minor": 0
      },
      "text/plain": [
       "FloatProgress(value=0.0, bar_style='info', description='Progress:', layout=Layout(height='25px', width='50%'),…"
      ]
     },
     "metadata": {},
     "output_type": "display_data"
    },
    {
     "name": "stdout",
     "output_type": "stream",
     "text": [
      "2468572"
     ]
    }
   ],
   "source": [
    "# Checking the number of records in the DIM_ATM dataframe.\n",
    "DIM_ATM.count()"
   ]
  },
  {
   "cell_type": "markdown",
   "id": "7ce1e881",
   "metadata": {},
   "source": [
    "### 3.4.2  DIM_ATM contains lot of duplicate records. So, we will go ahead and drop the duplicate records."
   ]
  },
  {
   "cell_type": "code",
   "execution_count": 53,
   "id": "5c95ecd7",
   "metadata": {},
   "outputs": [
    {
     "data": {
      "application/vnd.jupyter.widget-view+json": {
       "model_id": "4ba0f6dd11c24be389c4c4450ac3d09c",
       "version_major": 2,
       "version_minor": 0
      },
      "text/plain": [
       "VBox()"
      ]
     },
     "metadata": {},
     "output_type": "display_data"
    },
    {
     "data": {
      "application/vnd.jupyter.widget-view+json": {
       "model_id": "",
       "version_major": 2,
       "version_minor": 0
      },
      "text/plain": [
       "FloatProgress(value=0.0, bar_style='info', description='Progress:', layout=Layout(height='25px', width='50%'),…"
      ]
     },
     "metadata": {},
     "output_type": "display_data"
    }
   ],
   "source": [
    "# Dropping the duplicate records from DIM_ATM dataframe.\n",
    "DIM_ATM = DIM_ATM.dropDuplicates()"
   ]
  },
  {
   "cell_type": "code",
   "execution_count": 54,
   "id": "631ac978",
   "metadata": {},
   "outputs": [
    {
     "data": {
      "application/vnd.jupyter.widget-view+json": {
       "model_id": "cab3ba510db54c269cc2e14d74beb5ab",
       "version_major": 2,
       "version_minor": 0
      },
      "text/plain": [
       "VBox()"
      ]
     },
     "metadata": {},
     "output_type": "display_data"
    },
    {
     "data": {
      "application/vnd.jupyter.widget-view+json": {
       "model_id": "",
       "version_major": 2,
       "version_minor": 0
      },
      "text/plain": [
       "FloatProgress(value=0.0, bar_style='info', description='Progress:', layout=Layout(height='25px', width='50%'),…"
      ]
     },
     "metadata": {},
     "output_type": "display_data"
    },
    {
     "name": "stdout",
     "output_type": "stream",
     "text": [
      "113"
     ]
    }
   ],
   "source": [
    "# Verifying the number of records in the DIM_ATM dataframe.\n",
    "DIM_ATM.count()"
   ]
  },
  {
   "cell_type": "code",
   "execution_count": 55,
   "id": "d6f17fff",
   "metadata": {},
   "outputs": [
    {
     "data": {
      "application/vnd.jupyter.widget-view+json": {
       "model_id": "3524f5c697c8448b866eae194f7c6a9d",
       "version_major": 2,
       "version_minor": 0
      },
      "text/plain": [
       "VBox()"
      ]
     },
     "metadata": {},
     "output_type": "display_data"
    },
    {
     "data": {
      "application/vnd.jupyter.widget-view+json": {
       "model_id": "",
       "version_major": 2,
       "version_minor": 0
      },
      "text/plain": [
       "FloatProgress(value=0.0, bar_style='info', description='Progress:', layout=Layout(height='25px', width='50%'),…"
      ]
     },
     "metadata": {},
     "output_type": "display_data"
    },
    {
     "name": "stdout",
     "output_type": "stream",
     "text": [
      "+----------+----------------+--------------------+-----------------+-----------------+-----------+-------+-------+\n",
      "|atm_number|atm_manufacturer|        atm_location|   atm_streetname|atm_street_number|atm_zipcode|atm_lat|atm_lon|\n",
      "+----------+----------------+--------------------+-----------------+-----------------+-----------+-------+-------+\n",
      "|        59| Diebold Nixdorf|NykÃƒÂ¸bing Mors ...|      Kirketorvet|                1|       7900| 56.795|   8.86|\n",
      "|        41| Diebold Nixdorf|              Skagen|Sct. Laurentiivej|               36|       9990| 57.723|  10.59|\n",
      "|        40| Diebold Nixdorf|       Frederikshavn|     Danmarksgade|               48|       9900| 57.441| 10.537|\n",
      "|        87|             NCR|Aalborg Storcente...|         Hobrovej|              452|       9200| 57.005|  9.876|\n",
      "|        31|             NCR|            Slagelse|  Mariendals Alle|               29|       4200| 55.398| 11.342|\n",
      "+----------+----------------+--------------------+-----------------+-----------------+-----------+-------+-------+\n",
      "only showing top 5 rows"
     ]
    }
   ],
   "source": [
    "# Printing first 5 rows for reference.\n",
    "DIM_ATM.show(5)"
   ]
  },
  {
   "cell_type": "markdown",
   "id": "f1d13c29",
   "metadata": {},
   "source": [
    "- ### Number of records in DIM_ATM is 113 as given in the validation document."
   ]
  },
  {
   "cell_type": "markdown",
   "id": "beab601e",
   "metadata": {},
   "source": [
    "### 3.4.3  Adding the 'atm_location_id' column (Foreign key, referencing 'location_id' from 'DIM_LOCATION') to the DIM_ATM dataframe."
   ]
  },
  {
   "cell_type": "code",
   "execution_count": 56,
   "id": "ba195292",
   "metadata": {},
   "outputs": [
    {
     "data": {
      "application/vnd.jupyter.widget-view+json": {
       "model_id": "ce40f5725e764968b07aebcb18e74cc8",
       "version_major": 2,
       "version_minor": 0
      },
      "text/plain": [
       "VBox()"
      ]
     },
     "metadata": {},
     "output_type": "display_data"
    },
    {
     "data": {
      "application/vnd.jupyter.widget-view+json": {
       "model_id": "",
       "version_major": 2,
       "version_minor": 0
      },
      "text/plain": [
       "FloatProgress(value=0.0, bar_style='info', description='Progress:', layout=Layout(height='25px', width='50%'),…"
      ]
     },
     "metadata": {},
     "output_type": "display_data"
    }
   ],
   "source": [
    "# Creating 'location_copy' dataframe as a copy of 'DIM_LOCATION' dataframe.\n",
    "location_copy = DIM_LOCATION"
   ]
  },
  {
   "cell_type": "code",
   "execution_count": 57,
   "id": "f1f21996",
   "metadata": {
    "scrolled": true
   },
   "outputs": [
    {
     "data": {
      "application/vnd.jupyter.widget-view+json": {
       "model_id": "68e6bb4f51394b579573c09b2a14ac39",
       "version_major": 2,
       "version_minor": 0
      },
      "text/plain": [
       "VBox()"
      ]
     },
     "metadata": {},
     "output_type": "display_data"
    },
    {
     "data": {
      "application/vnd.jupyter.widget-view+json": {
       "model_id": "",
       "version_major": 2,
       "version_minor": 0
      },
      "text/plain": [
       "FloatProgress(value=0.0, bar_style='info', description='Progress:', layout=Layout(height='25px', width='50%'),…"
      ]
     },
     "metadata": {},
     "output_type": "display_data"
    },
    {
     "name": "stdout",
     "output_type": "stream",
     "text": [
      "+-----------+--------------------+------------+-------------+-------+------+-----+\n",
      "|location_id|            location|  streetname|street_number|zipcode|   lat|  lon|\n",
      "+-----------+--------------------+------------+-------------+-------+------+-----+\n",
      "|          1|             Aabybro|ÃƒËœstergade|            6|   9440|57.162| 9.73|\n",
      "|          2|      Aalborg Hallen|Europa Plads|            4|   9000|57.044|9.913|\n",
      "|          3|Aalborg Storcente...|    Hobrovej|          452|   9200|57.005|9.876|\n",
      "|          4|Aalborg Storcente...|    Hobrovej|          452|   9200|57.005|9.876|\n",
      "|          5|         Aalborg Syd|    Hobrovej|          440|   9200|57.005|9.881|\n",
      "+-----------+--------------------+------------+-------------+-------+------+-----+\n",
      "only showing top 5 rows"
     ]
    }
   ],
   "source": [
    "# Printing first 5 rows for reference.\n",
    "location_copy.show(5)"
   ]
  },
  {
   "cell_type": "code",
   "execution_count": 58,
   "id": "7226bcd7",
   "metadata": {},
   "outputs": [
    {
     "data": {
      "application/vnd.jupyter.widget-view+json": {
       "model_id": "4be07545357c4b589bed7372f709652c",
       "version_major": 2,
       "version_minor": 0
      },
      "text/plain": [
       "VBox()"
      ]
     },
     "metadata": {},
     "output_type": "display_data"
    },
    {
     "data": {
      "application/vnd.jupyter.widget-view+json": {
       "model_id": "",
       "version_major": 2,
       "version_minor": 0
      },
      "text/plain": [
       "FloatProgress(value=0.0, bar_style='info', description='Progress:', layout=Layout(height='25px', width='50%'),…"
      ]
     },
     "metadata": {},
     "output_type": "display_data"
    }
   ],
   "source": [
    "# Renaming the columns with appropriate column names for join with 'DIM_ATM' dataframe.\n",
    "location_copy = location_copy.withColumnRenamed(\"location_id\",\"atm_location_id\").withColumnRenamed(\"location\",\"atm_location\").withColumnRenamed(\"streetname\",\"atm_streetname\").withColumnRenamed(\"street_number\",\"atm_street_number\").withColumnRenamed(\"zipcode\",\"atm_zipcode\").withColumnRenamed(\"lat\",\"atm_lat\").withColumnRenamed(\"lon\",\"atm_lon\")"
   ]
  },
  {
   "cell_type": "code",
   "execution_count": 59,
   "id": "49125302",
   "metadata": {},
   "outputs": [
    {
     "data": {
      "application/vnd.jupyter.widget-view+json": {
       "model_id": "31a4d99376284bfe9569fabee8eef418",
       "version_major": 2,
       "version_minor": 0
      },
      "text/plain": [
       "VBox()"
      ]
     },
     "metadata": {},
     "output_type": "display_data"
    },
    {
     "data": {
      "application/vnd.jupyter.widget-view+json": {
       "model_id": "",
       "version_major": 2,
       "version_minor": 0
      },
      "text/plain": [
       "FloatProgress(value=0.0, bar_style='info', description='Progress:', layout=Layout(height='25px', width='50%'),…"
      ]
     },
     "metadata": {},
     "output_type": "display_data"
    },
    {
     "name": "stdout",
     "output_type": "stream",
     "text": [
      "+---------------+--------------------+--------------+-----------------+-----------+-------+-------+\n",
      "|atm_location_id|        atm_location|atm_streetname|atm_street_number|atm_zipcode|atm_lat|atm_lon|\n",
      "+---------------+--------------------+--------------+-----------------+-----------+-------+-------+\n",
      "|              1|             Aabybro|  ÃƒËœstergade|                6|       9440| 57.162|   9.73|\n",
      "|              2|      Aalborg Hallen|  Europa Plads|                4|       9000| 57.044|  9.913|\n",
      "|              3|Aalborg Storcente...|      Hobrovej|              452|       9200| 57.005|  9.876|\n",
      "|              4|Aalborg Storcente...|      Hobrovej|              452|       9200| 57.005|  9.876|\n",
      "|              5|         Aalborg Syd|      Hobrovej|              440|       9200| 57.005|  9.881|\n",
      "+---------------+--------------------+--------------+-----------------+-----------+-------+-------+\n",
      "only showing top 5 rows"
     ]
    }
   ],
   "source": [
    "# Printing first 5 rows for reference.\n",
    "location_copy.show(5)"
   ]
  },
  {
   "cell_type": "code",
   "execution_count": 60,
   "id": "71f4e62a",
   "metadata": {},
   "outputs": [
    {
     "data": {
      "application/vnd.jupyter.widget-view+json": {
       "model_id": "09c392c67fab4849861700790c62c24c",
       "version_major": 2,
       "version_minor": 0
      },
      "text/plain": [
       "VBox()"
      ]
     },
     "metadata": {},
     "output_type": "display_data"
    },
    {
     "data": {
      "application/vnd.jupyter.widget-view+json": {
       "model_id": "",
       "version_major": 2,
       "version_minor": 0
      },
      "text/plain": [
       "FloatProgress(value=0.0, bar_style='info', description='Progress:', layout=Layout(height='25px', width='50%'),…"
      ]
     },
     "metadata": {},
     "output_type": "display_data"
    }
   ],
   "source": [
    "# Performing the join operation on 'DIM_ATM' and 'location_copy' dataframes and saving in 'ATM_JOINED' dataframe.\n",
    "ATM_JOINED = location_copy.join(DIM_ATM, on=['atm_location','atm_streetname','atm_street_number','atm_zipcode','atm_lat','atm_lon'], how='left')"
   ]
  },
  {
   "cell_type": "code",
   "execution_count": 61,
   "id": "fc184610",
   "metadata": {},
   "outputs": [
    {
     "data": {
      "application/vnd.jupyter.widget-view+json": {
       "model_id": "5690fc7ab88e49e5807685c1b242ce7e",
       "version_major": 2,
       "version_minor": 0
      },
      "text/plain": [
       "VBox()"
      ]
     },
     "metadata": {},
     "output_type": "display_data"
    },
    {
     "data": {
      "application/vnd.jupyter.widget-view+json": {
       "model_id": "",
       "version_major": 2,
       "version_minor": 0
      },
      "text/plain": [
       "FloatProgress(value=0.0, bar_style='info', description='Progress:', layout=Layout(height='25px', width='50%'),…"
      ]
     },
     "metadata": {},
     "output_type": "display_data"
    },
    {
     "name": "stdout",
     "output_type": "stream",
     "text": [
      "113"
     ]
    }
   ],
   "source": [
    "# Checking the number of records in 'ATM_JOINED' dataframe.\n",
    "ATM_JOINED.count()"
   ]
  },
  {
   "cell_type": "code",
   "execution_count": 62,
   "id": "3b28ab94",
   "metadata": {},
   "outputs": [
    {
     "data": {
      "application/vnd.jupyter.widget-view+json": {
       "model_id": "bfd11874e2a14101bb271be3fd82f24a",
       "version_major": 2,
       "version_minor": 0
      },
      "text/plain": [
       "VBox()"
      ]
     },
     "metadata": {},
     "output_type": "display_data"
    },
    {
     "data": {
      "application/vnd.jupyter.widget-view+json": {
       "model_id": "",
       "version_major": 2,
       "version_minor": 0
      },
      "text/plain": [
       "FloatProgress(value=0.0, bar_style='info', description='Progress:', layout=Layout(height='25px', width='50%'),…"
      ]
     },
     "metadata": {},
     "output_type": "display_data"
    }
   ],
   "source": [
    "# Selecting the required columns from 'ATM_JOINED' dataframe as per the schema provided for 'DIM_ATM' dataframe.\n",
    "DIM_ATM = ATM_JOINED.select(\"atm_number\",\"atm_manufacturer\",'atm_location_id')"
   ]
  },
  {
   "cell_type": "code",
   "execution_count": 63,
   "id": "4397059a",
   "metadata": {},
   "outputs": [
    {
     "data": {
      "application/vnd.jupyter.widget-view+json": {
       "model_id": "2652e656f31e4f4b8fefa24c061bccc5",
       "version_major": 2,
       "version_minor": 0
      },
      "text/plain": [
       "VBox()"
      ]
     },
     "metadata": {},
     "output_type": "display_data"
    },
    {
     "data": {
      "application/vnd.jupyter.widget-view+json": {
       "model_id": "",
       "version_major": 2,
       "version_minor": 0
      },
      "text/plain": [
       "FloatProgress(value=0.0, bar_style='info', description='Progress:', layout=Layout(height='25px', width='50%'),…"
      ]
     },
     "metadata": {},
     "output_type": "display_data"
    },
    {
     "name": "stdout",
     "output_type": "stream",
     "text": [
      "root\n",
      " |-- atm_number: string (nullable = true)\n",
      " |-- atm_manufacturer: string (nullable = true)\n",
      " |-- atm_location_id: integer (nullable = true)"
     ]
    }
   ],
   "source": [
    "# Checking the schema for 'DIM_ATM'.\n",
    "DIM_ATM.printSchema()"
   ]
  },
  {
   "cell_type": "code",
   "execution_count": 64,
   "id": "359a37a7",
   "metadata": {},
   "outputs": [
    {
     "data": {
      "application/vnd.jupyter.widget-view+json": {
       "model_id": "c115214ec12b4a6ba74478009cdb0f8c",
       "version_major": 2,
       "version_minor": 0
      },
      "text/plain": [
       "VBox()"
      ]
     },
     "metadata": {},
     "output_type": "display_data"
    },
    {
     "data": {
      "application/vnd.jupyter.widget-view+json": {
       "model_id": "",
       "version_major": 2,
       "version_minor": 0
      },
      "text/plain": [
       "FloatProgress(value=0.0, bar_style='info', description='Progress:', layout=Layout(height='25px', width='50%'),…"
      ]
     },
     "metadata": {},
     "output_type": "display_data"
    },
    {
     "name": "stdout",
     "output_type": "stream",
     "text": [
      "113"
     ]
    }
   ],
   "source": [
    "# Checking the number of records in 'DIM_ATM' dataframe.\n",
    "DIM_ATM.count()"
   ]
  },
  {
   "cell_type": "markdown",
   "id": "ff5f09a1",
   "metadata": {},
   "source": [
    "- ### Number of records in DIM_ATM is 113 as given in the validation document."
   ]
  },
  {
   "cell_type": "markdown",
   "id": "feb1da1b",
   "metadata": {},
   "source": [
    "### 3.4.4  Adding the \"atm_id\" column (Primary key) to DIM_ATM dataframe."
   ]
  },
  {
   "cell_type": "code",
   "execution_count": 65,
   "id": "fb5caaab",
   "metadata": {},
   "outputs": [
    {
     "data": {
      "application/vnd.jupyter.widget-view+json": {
       "model_id": "6c8fbc7340e0454893899bd8b979e045",
       "version_major": 2,
       "version_minor": 0
      },
      "text/plain": [
       "VBox()"
      ]
     },
     "metadata": {},
     "output_type": "display_data"
    },
    {
     "data": {
      "application/vnd.jupyter.widget-view+json": {
       "model_id": "",
       "version_major": 2,
       "version_minor": 0
      },
      "text/plain": [
       "FloatProgress(value=0.0, bar_style='info', description='Progress:', layout=Layout(height='25px', width='50%'),…"
      ]
     },
     "metadata": {},
     "output_type": "display_data"
    }
   ],
   "source": [
    "# Adding the 'atm_id' column.\n",
    "DIM_ATM = DIM_ATM.select(F.row_number().over(Window.partitionBy().orderBy(DIM_ATM['atm_number'])).alias(\"atm_id\"),\"atm_number\",\"atm_manufacturer\",\"atm_location_id\")"
   ]
  },
  {
   "cell_type": "code",
   "execution_count": 66,
   "id": "77f6e15a",
   "metadata": {},
   "outputs": [
    {
     "data": {
      "application/vnd.jupyter.widget-view+json": {
       "model_id": "2dd1f4b2a28d47f2b8510821cd6d3ffe",
       "version_major": 2,
       "version_minor": 0
      },
      "text/plain": [
       "VBox()"
      ]
     },
     "metadata": {},
     "output_type": "display_data"
    },
    {
     "data": {
      "application/vnd.jupyter.widget-view+json": {
       "model_id": "",
       "version_major": 2,
       "version_minor": 0
      },
      "text/plain": [
       "FloatProgress(value=0.0, bar_style='info', description='Progress:', layout=Layout(height='25px', width='50%'),…"
      ]
     },
     "metadata": {},
     "output_type": "display_data"
    },
    {
     "name": "stdout",
     "output_type": "stream",
     "text": [
      "113"
     ]
    }
   ],
   "source": [
    "# Verifying the number of records in the 'DIM_ATM' dataframe.\n",
    "DIM_ATM.count()"
   ]
  },
  {
   "cell_type": "code",
   "execution_count": 67,
   "id": "beb68fac",
   "metadata": {},
   "outputs": [
    {
     "data": {
      "application/vnd.jupyter.widget-view+json": {
       "model_id": "72fbc9da981049778da77ee326164577",
       "version_major": 2,
       "version_minor": 0
      },
      "text/plain": [
       "VBox()"
      ]
     },
     "metadata": {},
     "output_type": "display_data"
    },
    {
     "data": {
      "application/vnd.jupyter.widget-view+json": {
       "model_id": "",
       "version_major": 2,
       "version_minor": 0
      },
      "text/plain": [
       "FloatProgress(value=0.0, bar_style='info', description='Progress:', layout=Layout(height='25px', width='50%'),…"
      ]
     },
     "metadata": {},
     "output_type": "display_data"
    },
    {
     "name": "stdout",
     "output_type": "stream",
     "text": [
      "+------+----------+----------------+---------------+\n",
      "|atm_id|atm_number|atm_manufacturer|atm_location_id|\n",
      "+------+----------+----------------+---------------+\n",
      "|     1|         1|             NCR|             75|\n",
      "|     2|        10|             NCR|             76|\n",
      "|     3|       100|             NCR|             56|\n",
      "|     4|       101|             NCR|             17|\n",
      "|     5|       102|             NCR|              3|\n",
      "|     6|       103| Diebold Nixdorf|            103|\n",
      "|     7|       104|             NCR|             58|\n",
      "|     8|       105| Diebold Nixdorf|             76|\n",
      "|     9|       106|             NCR|             55|\n",
      "|    10|       107| Diebold Nixdorf|             62|\n",
      "+------+----------+----------------+---------------+\n",
      "only showing top 10 rows"
     ]
    }
   ],
   "source": [
    "# Printing the first 10 rows from 'DIM_ATM' dataframe.\n",
    "DIM_ATM.show(10)"
   ]
  },
  {
   "cell_type": "markdown",
   "id": "d1b4cc8e",
   "metadata": {},
   "source": [
    "- ### 'DIM_ATM' is ready as per the schema provided."
   ]
  },
  {
   "cell_type": "markdown",
   "id": "e18b9934",
   "metadata": {},
   "source": [
    "## 4.  Creating Fact table"
   ]
  },
  {
   "cell_type": "markdown",
   "id": "77e004aa",
   "metadata": {},
   "source": [
    "### 4.1 FACT_ATM_TRANS"
   ]
  },
  {
   "cell_type": "code",
   "execution_count": 68,
   "id": "8833f911",
   "metadata": {},
   "outputs": [
    {
     "data": {
      "application/vnd.jupyter.widget-view+json": {
       "model_id": "c75e3db7e94f44e684b97deaec9ee4db",
       "version_major": 2,
       "version_minor": 0
      },
      "text/plain": [
       "VBox()"
      ]
     },
     "metadata": {},
     "output_type": "display_data"
    },
    {
     "data": {
      "application/vnd.jupyter.widget-view+json": {
       "model_id": "",
       "version_major": 2,
       "version_minor": 0
      },
      "text/plain": [
       "FloatProgress(value=0.0, bar_style='info', description='Progress:', layout=Layout(height='25px', width='50%'),…"
      ]
     },
     "metadata": {},
     "output_type": "display_data"
    }
   ],
   "source": [
    "# Creating the 'FACT_ATM_TRANS' dataframe.\n",
    "FACT_ATM_TRANS = atm_data1.select(\"atm_status\",\"currency\",\"service\",\"transaction_amount\",\"message_code\",\"message_text\",\"rain_3h\",\"clouds_all\",\"weather_id\",\"weather_main\",\"weather_description\",\"atm_location\",\"atm_streetname\",\"atm_street_number\",\"atm_zipcode\",\"atm_lat\",\"atm_lon\",\"atm_id\",\"atm_manufacturer\",\"year\",\"month\",\"day\",\"hour\",\"weekday\",\"card_type\")"
   ]
  },
  {
   "cell_type": "code",
   "execution_count": 69,
   "id": "fc8aa41b",
   "metadata": {},
   "outputs": [
    {
     "data": {
      "application/vnd.jupyter.widget-view+json": {
       "model_id": "06aa0b6850f74abcbc281fb3675c944e",
       "version_major": 2,
       "version_minor": 0
      },
      "text/plain": [
       "VBox()"
      ]
     },
     "metadata": {},
     "output_type": "display_data"
    },
    {
     "data": {
      "application/vnd.jupyter.widget-view+json": {
       "model_id": "",
       "version_major": 2,
       "version_minor": 0
      },
      "text/plain": [
       "FloatProgress(value=0.0, bar_style='info', description='Progress:', layout=Layout(height='25px', width='50%'),…"
      ]
     },
     "metadata": {},
     "output_type": "display_data"
    },
    {
     "name": "stdout",
     "output_type": "stream",
     "text": [
      "root\n",
      " |-- atm_status: string (nullable = true)\n",
      " |-- currency: string (nullable = true)\n",
      " |-- service: string (nullable = true)\n",
      " |-- transaction_amount: integer (nullable = true)\n",
      " |-- message_code: string (nullable = true)\n",
      " |-- message_text: string (nullable = true)\n",
      " |-- rain_3h: double (nullable = true)\n",
      " |-- clouds_all: integer (nullable = true)\n",
      " |-- weather_id: integer (nullable = true)\n",
      " |-- weather_main: string (nullable = true)\n",
      " |-- weather_description: string (nullable = true)\n",
      " |-- atm_location: string (nullable = true)\n",
      " |-- atm_streetname: string (nullable = true)\n",
      " |-- atm_street_number: integer (nullable = true)\n",
      " |-- atm_zipcode: integer (nullable = true)\n",
      " |-- atm_lat: double (nullable = true)\n",
      " |-- atm_lon: double (nullable = true)\n",
      " |-- atm_id: string (nullable = true)\n",
      " |-- atm_manufacturer: string (nullable = true)\n",
      " |-- year: integer (nullable = true)\n",
      " |-- month: string (nullable = true)\n",
      " |-- day: integer (nullable = true)\n",
      " |-- hour: integer (nullable = true)\n",
      " |-- weekday: string (nullable = true)\n",
      " |-- card_type: string (nullable = true)"
     ]
    }
   ],
   "source": [
    "# Printing the schema to check the column names and datatypes.\n",
    "FACT_ATM_TRANS.printSchema()"
   ]
  },
  {
   "cell_type": "code",
   "execution_count": 70,
   "id": "9f463205",
   "metadata": {},
   "outputs": [
    {
     "data": {
      "application/vnd.jupyter.widget-view+json": {
       "model_id": "78099606925942be9b8dab4d0669dc23",
       "version_major": 2,
       "version_minor": 0
      },
      "text/plain": [
       "VBox()"
      ]
     },
     "metadata": {},
     "output_type": "display_data"
    },
    {
     "data": {
      "application/vnd.jupyter.widget-view+json": {
       "model_id": "",
       "version_major": 2,
       "version_minor": 0
      },
      "text/plain": [
       "FloatProgress(value=0.0, bar_style='info', description='Progress:', layout=Layout(height='25px', width='50%'),…"
      ]
     },
     "metadata": {},
     "output_type": "display_data"
    }
   ],
   "source": [
    "# Renaming the 'atm_id' column to 'atm_number'.\n",
    "FACT_ATM_TRANS = FACT_ATM_TRANS.withColumnRenamed(\"atm_id\",\"atm_number\")"
   ]
  },
  {
   "cell_type": "code",
   "execution_count": 71,
   "id": "af033263",
   "metadata": {},
   "outputs": [
    {
     "data": {
      "application/vnd.jupyter.widget-view+json": {
       "model_id": "0f12c8fbe7444371a9c7e7133a2410a9",
       "version_major": 2,
       "version_minor": 0
      },
      "text/plain": [
       "VBox()"
      ]
     },
     "metadata": {},
     "output_type": "display_data"
    },
    {
     "data": {
      "application/vnd.jupyter.widget-view+json": {
       "model_id": "",
       "version_major": 2,
       "version_minor": 0
      },
      "text/plain": [
       "FloatProgress(value=0.0, bar_style='info', description='Progress:', layout=Layout(height='25px', width='50%'),…"
      ]
     },
     "metadata": {},
     "output_type": "display_data"
    },
    {
     "name": "stdout",
     "output_type": "stream",
     "text": [
      "root\n",
      " |-- atm_status: string (nullable = true)\n",
      " |-- currency: string (nullable = true)\n",
      " |-- service: string (nullable = true)\n",
      " |-- transaction_amount: integer (nullable = true)\n",
      " |-- message_code: string (nullable = true)\n",
      " |-- message_text: string (nullable = true)\n",
      " |-- rain_3h: double (nullable = true)\n",
      " |-- clouds_all: integer (nullable = true)\n",
      " |-- weather_id: integer (nullable = true)\n",
      " |-- weather_main: string (nullable = true)\n",
      " |-- weather_description: string (nullable = true)\n",
      " |-- atm_location: string (nullable = true)\n",
      " |-- atm_streetname: string (nullable = true)\n",
      " |-- atm_street_number: integer (nullable = true)\n",
      " |-- atm_zipcode: integer (nullable = true)\n",
      " |-- atm_lat: double (nullable = true)\n",
      " |-- atm_lon: double (nullable = true)\n",
      " |-- atm_number: string (nullable = true)\n",
      " |-- atm_manufacturer: string (nullable = true)\n",
      " |-- year: integer (nullable = true)\n",
      " |-- month: string (nullable = true)\n",
      " |-- day: integer (nullable = true)\n",
      " |-- hour: integer (nullable = true)\n",
      " |-- weekday: string (nullable = true)\n",
      " |-- card_type: string (nullable = true)"
     ]
    }
   ],
   "source": [
    "# Printing the schema to check the column names and datatypes.\n",
    "FACT_ATM_TRANS.printSchema()"
   ]
  },
  {
   "cell_type": "code",
   "execution_count": 72,
   "id": "c015d962",
   "metadata": {},
   "outputs": [
    {
     "data": {
      "application/vnd.jupyter.widget-view+json": {
       "model_id": "3b771c931a5b4f60b9a7f5dc30df3231",
       "version_major": 2,
       "version_minor": 0
      },
      "text/plain": [
       "VBox()"
      ]
     },
     "metadata": {},
     "output_type": "display_data"
    },
    {
     "data": {
      "application/vnd.jupyter.widget-view+json": {
       "model_id": "",
       "version_major": 2,
       "version_minor": 0
      },
      "text/plain": [
       "FloatProgress(value=0.0, bar_style='info', description='Progress:', layout=Layout(height='25px', width='50%'),…"
      ]
     },
     "metadata": {},
     "output_type": "display_data"
    },
    {
     "name": "stdout",
     "output_type": "stream",
     "text": [
      "2468572"
     ]
    }
   ],
   "source": [
    "# Checking the number of records in the 'FACT_ATM_TRANS' dataframe.\n",
    "FACT_ATM_TRANS.count()"
   ]
  },
  {
   "cell_type": "markdown",
   "id": "fad23cc7",
   "metadata": {},
   "source": [
    "- ### Number of records in 'FACT_ATM_TRANS' is 2468572 as given in the validation document."
   ]
  },
  {
   "cell_type": "markdown",
   "id": "f00468c7",
   "metadata": {},
   "source": [
    "### 4.1.1  Adding the Foreign keys ('weather_loc_id', 'atm_id', 'date_id' and 'card_type_id') to the 'FACT_ATM_TRANS' dataframe."
   ]
  },
  {
   "cell_type": "markdown",
   "id": "99f2180c",
   "metadata": {},
   "source": [
    "### 4.1.1.1 Adding the 'weather_loc_id' column to 'FACT_ATM_TRANS' dataframe by using join operation on 'DIM_LOCATION' dataframe."
   ]
  },
  {
   "cell_type": "code",
   "execution_count": 73,
   "id": "796d862e",
   "metadata": {},
   "outputs": [
    {
     "data": {
      "application/vnd.jupyter.widget-view+json": {
       "model_id": "39f287ca8e4e4a9d8592039671a992ee",
       "version_major": 2,
       "version_minor": 0
      },
      "text/plain": [
       "VBox()"
      ]
     },
     "metadata": {},
     "output_type": "display_data"
    },
    {
     "data": {
      "application/vnd.jupyter.widget-view+json": {
       "model_id": "",
       "version_major": 2,
       "version_minor": 0
      },
      "text/plain": [
       "FloatProgress(value=0.0, bar_style='info', description='Progress:', layout=Layout(height='25px', width='50%'),…"
      ]
     },
     "metadata": {},
     "output_type": "display_data"
    }
   ],
   "source": [
    "# Selecting only the required columns from 'location_copy1' dataframe which is the copy of 'DIM_LOCATION' dataframe.\n",
    "location_copy1 = DIM_LOCATION"
   ]
  },
  {
   "cell_type": "code",
   "execution_count": 74,
   "id": "624bb708",
   "metadata": {},
   "outputs": [
    {
     "data": {
      "application/vnd.jupyter.widget-view+json": {
       "model_id": "032c1ceebbd646149798acce1cac2670",
       "version_major": 2,
       "version_minor": 0
      },
      "text/plain": [
       "VBox()"
      ]
     },
     "metadata": {},
     "output_type": "display_data"
    },
    {
     "data": {
      "application/vnd.jupyter.widget-view+json": {
       "model_id": "",
       "version_major": 2,
       "version_minor": 0
      },
      "text/plain": [
       "FloatProgress(value=0.0, bar_style='info', description='Progress:', layout=Layout(height='25px', width='50%'),…"
      ]
     },
     "metadata": {},
     "output_type": "display_data"
    }
   ],
   "source": [
    "location_copy1 = location_copy1.withColumnRenamed(\"location\",\"atm_location\").withColumnRenamed(\"streetname\",\"atm_streetname\").withColumnRenamed(\"street_number\",\"atm_street_number\").withColumnRenamed(\"zipcode\",\"atm_zipcode\").withColumnRenamed(\"lat\",\"atm_lat\").withColumnRenamed(\"lon\",\"atm_lon\")"
   ]
  },
  {
   "cell_type": "code",
   "execution_count": 75,
   "id": "20d7ade1",
   "metadata": {},
   "outputs": [
    {
     "data": {
      "application/vnd.jupyter.widget-view+json": {
       "model_id": "f2c24eab3ee04ad9a734483924831f50",
       "version_major": 2,
       "version_minor": 0
      },
      "text/plain": [
       "VBox()"
      ]
     },
     "metadata": {},
     "output_type": "display_data"
    },
    {
     "data": {
      "application/vnd.jupyter.widget-view+json": {
       "model_id": "",
       "version_major": 2,
       "version_minor": 0
      },
      "text/plain": [
       "FloatProgress(value=0.0, bar_style='info', description='Progress:', layout=Layout(height='25px', width='50%'),…"
      ]
     },
     "metadata": {},
     "output_type": "display_data"
    },
    {
     "name": "stdout",
     "output_type": "stream",
     "text": [
      "109"
     ]
    }
   ],
   "source": [
    "location_copy1.count()"
   ]
  },
  {
   "cell_type": "code",
   "execution_count": 76,
   "id": "fc5f3877",
   "metadata": {},
   "outputs": [
    {
     "data": {
      "application/vnd.jupyter.widget-view+json": {
       "model_id": "6948a097233c4f5b8fddca6be86b1d81",
       "version_major": 2,
       "version_minor": 0
      },
      "text/plain": [
       "VBox()"
      ]
     },
     "metadata": {},
     "output_type": "display_data"
    },
    {
     "data": {
      "application/vnd.jupyter.widget-view+json": {
       "model_id": "",
       "version_major": 2,
       "version_minor": 0
      },
      "text/plain": [
       "FloatProgress(value=0.0, bar_style='info', description='Progress:', layout=Layout(height='25px', width='50%'),…"
      ]
     },
     "metadata": {},
     "output_type": "display_data"
    }
   ],
   "source": [
    "# Performing the join operation on 'FACT_ATM_TRANS' and 'location_copy1' dataframes.\n",
    "FACT_ATM_TRANS = FACT_ATM_TRANS.join(location_copy1, on=['atm_location','atm_streetname','atm_street_number','atm_zipcode','atm_lat','atm_lon'], how='left')"
   ]
  },
  {
   "cell_type": "code",
   "execution_count": 77,
   "id": "a6b86020",
   "metadata": {},
   "outputs": [
    {
     "data": {
      "application/vnd.jupyter.widget-view+json": {
       "model_id": "e876b3f5013d45c6a17ed861eb8531cd",
       "version_major": 2,
       "version_minor": 0
      },
      "text/plain": [
       "VBox()"
      ]
     },
     "metadata": {},
     "output_type": "display_data"
    },
    {
     "data": {
      "application/vnd.jupyter.widget-view+json": {
       "model_id": "",
       "version_major": 2,
       "version_minor": 0
      },
      "text/plain": [
       "FloatProgress(value=0.0, bar_style='info', description='Progress:', layout=Layout(height='25px', width='50%'),…"
      ]
     },
     "metadata": {},
     "output_type": "display_data"
    },
    {
     "name": "stdout",
     "output_type": "stream",
     "text": [
      "2468572"
     ]
    }
   ],
   "source": [
    "# Checking the number of records in 'FACT_ATM_TRANS' dataframe.\n",
    "FACT_ATM_TRANS.count()"
   ]
  },
  {
   "cell_type": "markdown",
   "id": "478fb447",
   "metadata": {},
   "source": [
    "- ### Number of records in 'FACT_ATM_TRANS' is 2468572 as given in the validation document."
   ]
  },
  {
   "cell_type": "markdown",
   "id": "a0e50755",
   "metadata": {},
   "source": [
    "### 4.1.1.2 Adding the 'atm_id' column to 'FACT_ATM_TRANS' dataframe by using join operation on 'DIM_ATM' dataframe."
   ]
  },
  {
   "cell_type": "code",
   "execution_count": 78,
   "id": "7d924b64",
   "metadata": {},
   "outputs": [
    {
     "data": {
      "application/vnd.jupyter.widget-view+json": {
       "model_id": "dbab357a45d14917ba5154fa5aad42a4",
       "version_major": 2,
       "version_minor": 0
      },
      "text/plain": [
       "VBox()"
      ]
     },
     "metadata": {},
     "output_type": "display_data"
    },
    {
     "data": {
      "application/vnd.jupyter.widget-view+json": {
       "model_id": "",
       "version_major": 2,
       "version_minor": 0
      },
      "text/plain": [
       "FloatProgress(value=0.0, bar_style='info', description='Progress:', layout=Layout(height='25px', width='50%'),…"
      ]
     },
     "metadata": {},
     "output_type": "display_data"
    }
   ],
   "source": [
    "# Performing the join operation on 'FACT_ATM_TRANS' and 'DIM_ATM' dataframes.\n",
    "FACT_ATM_TRANS = FACT_ATM_TRANS.join(DIM_ATM, on=['atm_number','atm_manufacturer'], how='left')"
   ]
  },
  {
   "cell_type": "code",
   "execution_count": 79,
   "id": "0e7f2dc6",
   "metadata": {},
   "outputs": [
    {
     "data": {
      "application/vnd.jupyter.widget-view+json": {
       "model_id": "e513477a3f024bea9cf25e10a0e7c16f",
       "version_major": 2,
       "version_minor": 0
      },
      "text/plain": [
       "VBox()"
      ]
     },
     "metadata": {},
     "output_type": "display_data"
    },
    {
     "data": {
      "application/vnd.jupyter.widget-view+json": {
       "model_id": "",
       "version_major": 2,
       "version_minor": 0
      },
      "text/plain": [
       "FloatProgress(value=0.0, bar_style='info', description='Progress:', layout=Layout(height='25px', width='50%'),…"
      ]
     },
     "metadata": {},
     "output_type": "display_data"
    },
    {
     "name": "stdout",
     "output_type": "stream",
     "text": [
      "2468572"
     ]
    }
   ],
   "source": [
    "# Checking the number of records in 'FACT_ATM_TRANS' dataframe.\n",
    "FACT_ATM_TRANS.count()"
   ]
  },
  {
   "cell_type": "markdown",
   "id": "2b08ca57",
   "metadata": {},
   "source": [
    "- ### Number of records in 'FACT_ATM_TRANS' is 2468572 as given in the validation document."
   ]
  },
  {
   "cell_type": "markdown",
   "id": "ba6e1155",
   "metadata": {},
   "source": [
    "### 4.1.1.3 Adding the 'date_id' column to 'FACT_ATM_TRANS' dataframe by using join operation on 'DIM_DATE' dataframe."
   ]
  },
  {
   "cell_type": "code",
   "execution_count": 80,
   "id": "f1ba49e3",
   "metadata": {},
   "outputs": [
    {
     "data": {
      "application/vnd.jupyter.widget-view+json": {
       "model_id": "1a19fb9f9b184ace89012cb94ac786bd",
       "version_major": 2,
       "version_minor": 0
      },
      "text/plain": [
       "VBox()"
      ]
     },
     "metadata": {},
     "output_type": "display_data"
    },
    {
     "data": {
      "application/vnd.jupyter.widget-view+json": {
       "model_id": "",
       "version_major": 2,
       "version_minor": 0
      },
      "text/plain": [
       "FloatProgress(value=0.0, bar_style='info', description='Progress:', layout=Layout(height='25px', width='50%'),…"
      ]
     },
     "metadata": {},
     "output_type": "display_data"
    }
   ],
   "source": [
    "# Performing the join operation on 'FACT_ATM_TRANS' and 'DIM_DATE' dataframes.\n",
    "FACT_ATM_TRANS = FACT_ATM_TRANS.join(DIM_DATE, on=['year','month','day','hour','weekday'], how='left')"
   ]
  },
  {
   "cell_type": "code",
   "execution_count": 81,
   "id": "cd6aacda",
   "metadata": {},
   "outputs": [
    {
     "data": {
      "application/vnd.jupyter.widget-view+json": {
       "model_id": "78f90b9c94734fdbbdad6a122c870782",
       "version_major": 2,
       "version_minor": 0
      },
      "text/plain": [
       "VBox()"
      ]
     },
     "metadata": {},
     "output_type": "display_data"
    },
    {
     "data": {
      "application/vnd.jupyter.widget-view+json": {
       "model_id": "",
       "version_major": 2,
       "version_minor": 0
      },
      "text/plain": [
       "FloatProgress(value=0.0, bar_style='info', description='Progress:', layout=Layout(height='25px', width='50%'),…"
      ]
     },
     "metadata": {},
     "output_type": "display_data"
    },
    {
     "name": "stdout",
     "output_type": "stream",
     "text": [
      "2468572"
     ]
    }
   ],
   "source": [
    "# Checking the number of records in 'FACT_ATM_TRANS' dataframe.\n",
    "FACT_ATM_TRANS.count()"
   ]
  },
  {
   "cell_type": "markdown",
   "id": "0e0ad621",
   "metadata": {},
   "source": [
    "- ### Number of records in 'FACT_ATM_TRANS' is 2468572 as given in the validation document."
   ]
  },
  {
   "cell_type": "markdown",
   "id": "b733d844",
   "metadata": {},
   "source": [
    "### 4.1.1.4 Adding the 'card_type_id' column to 'FACT_ATM_TRANS' dataframe by using join operation on 'DIM_CARD_TYPE' dataframe."
   ]
  },
  {
   "cell_type": "code",
   "execution_count": 82,
   "id": "42d69117",
   "metadata": {},
   "outputs": [
    {
     "data": {
      "application/vnd.jupyter.widget-view+json": {
       "model_id": "963fde3dd1eb43bcb44cb956edb790f6",
       "version_major": 2,
       "version_minor": 0
      },
      "text/plain": [
       "VBox()"
      ]
     },
     "metadata": {},
     "output_type": "display_data"
    },
    {
     "data": {
      "application/vnd.jupyter.widget-view+json": {
       "model_id": "",
       "version_major": 2,
       "version_minor": 0
      },
      "text/plain": [
       "FloatProgress(value=0.0, bar_style='info', description='Progress:', layout=Layout(height='25px', width='50%'),…"
      ]
     },
     "metadata": {},
     "output_type": "display_data"
    }
   ],
   "source": [
    "# Performing the join operation on 'FACT_ATM_TRANS' and 'DIM_CARD_TYPE' dataframes.\n",
    "FACT_ATM_TRANS = FACT_ATM_TRANS.join(DIM_CARD_TYPE, on=['card_type'], how='left')"
   ]
  },
  {
   "cell_type": "code",
   "execution_count": 83,
   "id": "04ad936c",
   "metadata": {},
   "outputs": [
    {
     "data": {
      "application/vnd.jupyter.widget-view+json": {
       "model_id": "eb40ced876114336a6ef5fe25f30d799",
       "version_major": 2,
       "version_minor": 0
      },
      "text/plain": [
       "VBox()"
      ]
     },
     "metadata": {},
     "output_type": "display_data"
    },
    {
     "data": {
      "application/vnd.jupyter.widget-view+json": {
       "model_id": "",
       "version_major": 2,
       "version_minor": 0
      },
      "text/plain": [
       "FloatProgress(value=0.0, bar_style='info', description='Progress:', layout=Layout(height='25px', width='50%'),…"
      ]
     },
     "metadata": {},
     "output_type": "display_data"
    },
    {
     "name": "stdout",
     "output_type": "stream",
     "text": [
      "2468572"
     ]
    }
   ],
   "source": [
    "# Checking the number of records in 'FACT_ATM_TRANS' dataframe.\n",
    "FACT_ATM_TRANS.count()"
   ]
  },
  {
   "cell_type": "markdown",
   "id": "2d789f93",
   "metadata": {},
   "source": [
    "- ### Number of records in 'FACT_ATM_TRANS' is 2468572 as given in the validation document."
   ]
  },
  {
   "cell_type": "markdown",
   "id": "a222a607",
   "metadata": {},
   "source": [
    "### 4.1.2  Removing the unwanted columns from  'FACT_ATM_TRANS' dataframe according to the schema provided."
   ]
  },
  {
   "cell_type": "code",
   "execution_count": 84,
   "id": "e0df60c3",
   "metadata": {},
   "outputs": [
    {
     "data": {
      "application/vnd.jupyter.widget-view+json": {
       "model_id": "ff1b9e1eda8f4265ad126bad86d587af",
       "version_major": 2,
       "version_minor": 0
      },
      "text/plain": [
       "VBox()"
      ]
     },
     "metadata": {},
     "output_type": "display_data"
    },
    {
     "data": {
      "application/vnd.jupyter.widget-view+json": {
       "model_id": "",
       "version_major": 2,
       "version_minor": 0
      },
      "text/plain": [
       "FloatProgress(value=0.0, bar_style='info', description='Progress:', layout=Layout(height='25px', width='50%'),…"
      ]
     },
     "metadata": {},
     "output_type": "display_data"
    },
    {
     "name": "stdout",
     "output_type": "stream",
     "text": [
      "root\n",
      " |-- card_type: string (nullable = true)\n",
      " |-- year: integer (nullable = true)\n",
      " |-- month: string (nullable = true)\n",
      " |-- day: integer (nullable = true)\n",
      " |-- hour: integer (nullable = true)\n",
      " |-- weekday: string (nullable = true)\n",
      " |-- atm_number: string (nullable = true)\n",
      " |-- atm_manufacturer: string (nullable = true)\n",
      " |-- atm_location: string (nullable = true)\n",
      " |-- atm_streetname: string (nullable = true)\n",
      " |-- atm_street_number: integer (nullable = true)\n",
      " |-- atm_zipcode: integer (nullable = true)\n",
      " |-- atm_lat: double (nullable = true)\n",
      " |-- atm_lon: double (nullable = true)\n",
      " |-- atm_status: string (nullable = true)\n",
      " |-- currency: string (nullable = true)\n",
      " |-- service: string (nullable = true)\n",
      " |-- transaction_amount: integer (nullable = true)\n",
      " |-- message_code: string (nullable = true)\n",
      " |-- message_text: string (nullable = true)\n",
      " |-- rain_3h: double (nullable = true)\n",
      " |-- clouds_all: integer (nullable = true)\n",
      " |-- weather_id: integer (nullable = true)\n",
      " |-- weather_main: string (nullable = true)\n",
      " |-- weather_description: string (nullable = true)\n",
      " |-- location_id: integer (nullable = true)\n",
      " |-- atm_id: integer (nullable = true)\n",
      " |-- atm_location_id: integer (nullable = true)\n",
      " |-- date_id: integer (nullable = true)\n",
      " |-- full_date_time: timestamp (nullable = true)\n",
      " |-- card_type_id: integer (nullable = true)"
     ]
    }
   ],
   "source": [
    "# Printing the schema to check the column names.\n",
    "FACT_ATM_TRANS.printSchema()"
   ]
  },
  {
   "cell_type": "code",
   "execution_count": 85,
   "id": "10a4a7b7",
   "metadata": {},
   "outputs": [
    {
     "data": {
      "application/vnd.jupyter.widget-view+json": {
       "model_id": "2ab8d9bd7084413db3f51c3989d0f59d",
       "version_major": 2,
       "version_minor": 0
      },
      "text/plain": [
       "VBox()"
      ]
     },
     "metadata": {},
     "output_type": "display_data"
    },
    {
     "data": {
      "application/vnd.jupyter.widget-view+json": {
       "model_id": "",
       "version_major": 2,
       "version_minor": 0
      },
      "text/plain": [
       "FloatProgress(value=0.0, bar_style='info', description='Progress:', layout=Layout(height='25px', width='50%'),…"
      ]
     },
     "metadata": {},
     "output_type": "display_data"
    }
   ],
   "source": [
    "# Selecting only the columns which are required according to the schema for 'FACT_ATM_TRANS'.\n",
    "FACT_ATM_TRANS = FACT_ATM_TRANS.select(\"atm_id\",\"location_id\",\"date_id\",\"card_type_id\",\"atm_status\",\"currency\",\"service\",\"transaction_amount\",\"message_code\",\"message_text\",\"rain_3h\",\"clouds_all\",\"weather_id\",\"weather_main\",\"weather_description\")"
   ]
  },
  {
   "cell_type": "code",
   "execution_count": 86,
   "id": "bba1fba0",
   "metadata": {},
   "outputs": [
    {
     "data": {
      "application/vnd.jupyter.widget-view+json": {
       "model_id": "b1f4f50412c44f9fbbe652719ed4e2eb",
       "version_major": 2,
       "version_minor": 0
      },
      "text/plain": [
       "VBox()"
      ]
     },
     "metadata": {},
     "output_type": "display_data"
    },
    {
     "data": {
      "application/vnd.jupyter.widget-view+json": {
       "model_id": "",
       "version_major": 2,
       "version_minor": 0
      },
      "text/plain": [
       "FloatProgress(value=0.0, bar_style='info', description='Progress:', layout=Layout(height='25px', width='50%'),…"
      ]
     },
     "metadata": {},
     "output_type": "display_data"
    }
   ],
   "source": [
    "# Renaming the 'location_id' to 'weather_loc_id'.\n",
    "FACT_ATM_TRANS = FACT_ATM_TRANS.withColumnRenamed(\"location_id\",\"weather_loc_id\")"
   ]
  },
  {
   "cell_type": "code",
   "execution_count": 87,
   "id": "738d96d0",
   "metadata": {},
   "outputs": [
    {
     "data": {
      "application/vnd.jupyter.widget-view+json": {
       "model_id": "0e0c58bfe319455abbc945be2ea2a330",
       "version_major": 2,
       "version_minor": 0
      },
      "text/plain": [
       "VBox()"
      ]
     },
     "metadata": {},
     "output_type": "display_data"
    },
    {
     "data": {
      "application/vnd.jupyter.widget-view+json": {
       "model_id": "",
       "version_major": 2,
       "version_minor": 0
      },
      "text/plain": [
       "FloatProgress(value=0.0, bar_style='info', description='Progress:', layout=Layout(height='25px', width='50%'),…"
      ]
     },
     "metadata": {},
     "output_type": "display_data"
    },
    {
     "name": "stdout",
     "output_type": "stream",
     "text": [
      "root\n",
      " |-- atm_id: integer (nullable = true)\n",
      " |-- weather_loc_id: integer (nullable = true)\n",
      " |-- date_id: integer (nullable = true)\n",
      " |-- card_type_id: integer (nullable = true)\n",
      " |-- atm_status: string (nullable = true)\n",
      " |-- currency: string (nullable = true)\n",
      " |-- service: string (nullable = true)\n",
      " |-- transaction_amount: integer (nullable = true)\n",
      " |-- message_code: string (nullable = true)\n",
      " |-- message_text: string (nullable = true)\n",
      " |-- rain_3h: double (nullable = true)\n",
      " |-- clouds_all: integer (nullable = true)\n",
      " |-- weather_id: integer (nullable = true)\n",
      " |-- weather_main: string (nullable = true)\n",
      " |-- weather_description: string (nullable = true)"
     ]
    }
   ],
   "source": [
    "# Printing the schema to verify the column names.\n",
    "FACT_ATM_TRANS.printSchema()"
   ]
  },
  {
   "cell_type": "markdown",
   "id": "b62fba7b",
   "metadata": {},
   "source": [
    "### 4.1.3  Adding the \"trans_id\" column (Primary key) to 'FACT_ATM_TRANS' dataframe."
   ]
  },
  {
   "cell_type": "code",
   "execution_count": 88,
   "id": "df32dd47",
   "metadata": {},
   "outputs": [
    {
     "data": {
      "application/vnd.jupyter.widget-view+json": {
       "model_id": "255f3e5fb0af4a92b305092ffe6d6fd8",
       "version_major": 2,
       "version_minor": 0
      },
      "text/plain": [
       "VBox()"
      ]
     },
     "metadata": {},
     "output_type": "display_data"
    },
    {
     "data": {
      "application/vnd.jupyter.widget-view+json": {
       "model_id": "",
       "version_major": 2,
       "version_minor": 0
      },
      "text/plain": [
       "FloatProgress(value=0.0, bar_style='info', description='Progress:', layout=Layout(height='25px', width='50%'),…"
      ]
     },
     "metadata": {},
     "output_type": "display_data"
    }
   ],
   "source": [
    "# Adding the 'trans_id' column.\n",
    "FACT_ATM_TRANS = FACT_ATM_TRANS.select(F.row_number().over(Window.partitionBy().orderBy(FACT_ATM_TRANS['card_type_id'])).alias(\"trans_id\"),\"atm_id\",\"weather_loc_id\",\"date_id\",\"card_type_id\",\"atm_status\",\"currency\",\"service\",\"transaction_amount\",\"message_code\",\"message_text\",\"rain_3h\",\"clouds_all\",\"weather_id\",\"weather_main\",\"weather_description\")"
   ]
  },
  {
   "cell_type": "code",
   "execution_count": 89,
   "id": "b40b0d22",
   "metadata": {},
   "outputs": [
    {
     "data": {
      "application/vnd.jupyter.widget-view+json": {
       "model_id": "603a4129c2244bd0bc055ebd78354e6a",
       "version_major": 2,
       "version_minor": 0
      },
      "text/plain": [
       "VBox()"
      ]
     },
     "metadata": {},
     "output_type": "display_data"
    },
    {
     "data": {
      "application/vnd.jupyter.widget-view+json": {
       "model_id": "",
       "version_major": 2,
       "version_minor": 0
      },
      "text/plain": [
       "FloatProgress(value=0.0, bar_style='info', description='Progress:', layout=Layout(height='25px', width='50%'),…"
      ]
     },
     "metadata": {},
     "output_type": "display_data"
    },
    {
     "name": "stdout",
     "output_type": "stream",
     "text": [
      "2468572"
     ]
    }
   ],
   "source": [
    "# Verifying the number of records in 'FACT_ATM_TRANS' dataframe.\n",
    "FACT_ATM_TRANS.count()"
   ]
  },
  {
   "cell_type": "code",
   "execution_count": 90,
   "id": "19a8e9eb",
   "metadata": {},
   "outputs": [
    {
     "data": {
      "application/vnd.jupyter.widget-view+json": {
       "model_id": "50b6bc2431ae464092c6f2ccadf81bd8",
       "version_major": 2,
       "version_minor": 0
      },
      "text/plain": [
       "VBox()"
      ]
     },
     "metadata": {},
     "output_type": "display_data"
    },
    {
     "data": {
      "application/vnd.jupyter.widget-view+json": {
       "model_id": "",
       "version_major": 2,
       "version_minor": 0
      },
      "text/plain": [
       "FloatProgress(value=0.0, bar_style='info', description='Progress:', layout=Layout(height='25px', width='50%'),…"
      ]
     },
     "metadata": {},
     "output_type": "display_data"
    },
    {
     "name": "stdout",
     "output_type": "stream",
     "text": [
      "root\n",
      " |-- trans_id: integer (nullable = true)\n",
      " |-- atm_id: integer (nullable = true)\n",
      " |-- weather_loc_id: integer (nullable = true)\n",
      " |-- date_id: integer (nullable = true)\n",
      " |-- card_type_id: integer (nullable = true)\n",
      " |-- atm_status: string (nullable = true)\n",
      " |-- currency: string (nullable = true)\n",
      " |-- service: string (nullable = true)\n",
      " |-- transaction_amount: integer (nullable = true)\n",
      " |-- message_code: string (nullable = true)\n",
      " |-- message_text: string (nullable = true)\n",
      " |-- rain_3h: double (nullable = true)\n",
      " |-- clouds_all: integer (nullable = true)\n",
      " |-- weather_id: integer (nullable = true)\n",
      " |-- weather_main: string (nullable = true)\n",
      " |-- weather_description: string (nullable = true)"
     ]
    }
   ],
   "source": [
    "# Printing the schema to verify the column names and datatype.\n",
    "FACT_ATM_TRANS.printSchema()"
   ]
  },
  {
   "cell_type": "code",
   "execution_count": 91,
   "id": "b75ce2dc",
   "metadata": {},
   "outputs": [
    {
     "data": {
      "application/vnd.jupyter.widget-view+json": {
       "model_id": "1bef580741fa440dba196f6d3bfee75f",
       "version_major": 2,
       "version_minor": 0
      },
      "text/plain": [
       "VBox()"
      ]
     },
     "metadata": {},
     "output_type": "display_data"
    },
    {
     "data": {
      "application/vnd.jupyter.widget-view+json": {
       "model_id": "",
       "version_major": 2,
       "version_minor": 0
      },
      "text/plain": [
       "FloatProgress(value=0.0, bar_style='info', description='Progress:', layout=Layout(height='25px', width='50%'),…"
      ]
     },
     "metadata": {},
     "output_type": "display_data"
    },
    {
     "name": "stdout",
     "output_type": "stream",
     "text": [
      "+--------+------+--------------+-------+------------+----------+--------+----------+------------------+------------+------------+-------+----------+----------+------------+--------------------+\n",
      "|trans_id|atm_id|weather_loc_id|date_id|card_type_id|atm_status|currency|   service|transaction_amount|message_code|message_text|rain_3h|clouds_all|weather_id|weather_main| weather_description|\n",
      "+--------+------+--------------+-------+------------+----------+--------+----------+------------------+------------+------------+-------+----------+----------+------------+--------------------+\n",
      "|       1|    29|            79|   7593|           1|    Active|     DKK|Withdrawal|              6303|        null|        null|    0.0|         0|       800|       Clear|        Sky is Clear|\n",
      "|       2|    29|            79|   7593|           1|    Active|     DKK|Withdrawal|              7624|        null|        null|    0.0|         0|       800|       Clear|        Sky is Clear|\n",
      "|       3|    54|            11|   5888|           1|    Active|     DKK|Withdrawal|              6596|        null|        null|    0.0|        40|       521|        Rain|proximity shower ...|\n",
      "|       4|    29|            79|     28|           1|    Active|     DKK|Withdrawal|              4102|        null|        null|    0.0|        20|       300|     Drizzle|light intensity d...|\n",
      "|       5|    29|            79|   1087|           1|    Active|     DKK|Withdrawal|              8981|        null|        null|    0.0|        68|       803|      Clouds|       broken clouds|\n",
      "+--------+------+--------------+-------+------------+----------+--------+----------+------------------+------------+------------+-------+----------+----------+------------+--------------------+\n",
      "only showing top 5 rows"
     ]
    }
   ],
   "source": [
    "# Printing the first 5 rows for reference.\n",
    "FACT_ATM_TRANS.show(5)"
   ]
  },
  {
   "cell_type": "markdown",
   "id": "1b35e159",
   "metadata": {},
   "source": [
    "- ### Number of records in 'FACT_ATM_TRANS' is 2468572 as given in the validation document."
   ]
  },
  {
   "cell_type": "markdown",
   "id": "55a86909",
   "metadata": {},
   "source": [
    "- ### All the Foreign keys and Primary keys are added to the 'FACT_ATM_TRANS' dataframe."
   ]
  },
  {
   "cell_type": "markdown",
   "id": "60773239",
   "metadata": {},
   "source": [
    "- ### All the dimension and fact dataframes/tables are created and are ready to load into Amazon S3."
   ]
  },
  {
   "cell_type": "markdown",
   "id": "a1822dd5",
   "metadata": {},
   "source": [
    "## 5.  Loading the dataframes to Amazon S3."
   ]
  },
  {
   "cell_type": "markdown",
   "id": "176d49d5",
   "metadata": {},
   "source": [
    "- ### Created 'etl-project-saish' bucket in S3. Now, we will load the dataframes/tables to 'etl-project-saish' bucket in the S3."
   ]
  },
  {
   "cell_type": "markdown",
   "id": "48d94424",
   "metadata": {},
   "source": [
    "### 5.1 Loading the 'DIM_LOCATION' dataframe to the S3 bucket."
   ]
  },
  {
   "cell_type": "code",
   "execution_count": 92,
   "id": "35977807",
   "metadata": {},
   "outputs": [
    {
     "data": {
      "application/vnd.jupyter.widget-view+json": {
       "model_id": "0c60f58a90104c2aad1dc513653bb388",
       "version_major": 2,
       "version_minor": 0
      },
      "text/plain": [
       "VBox()"
      ]
     },
     "metadata": {},
     "output_type": "display_data"
    },
    {
     "data": {
      "application/vnd.jupyter.widget-view+json": {
       "model_id": "",
       "version_major": 2,
       "version_minor": 0
      },
      "text/plain": [
       "FloatProgress(value=0.0, bar_style='info', description='Progress:', layout=Layout(height='25px', width='50%'),…"
      ]
     },
     "metadata": {},
     "output_type": "display_data"
    }
   ],
   "source": [
    "DIM_LOCATION.coalesce(1).write.format('csv').option('header','false').save('s3://etl-project-saish/DIM_LOCATION',mode='overwrite')"
   ]
  },
  {
   "cell_type": "markdown",
   "id": "c3ec8347",
   "metadata": {},
   "source": [
    "### 5.2 Loading the 'DIM_ATM' dataframe to the S3 bucket."
   ]
  },
  {
   "cell_type": "code",
   "execution_count": 93,
   "id": "6fcafa49",
   "metadata": {},
   "outputs": [
    {
     "data": {
      "application/vnd.jupyter.widget-view+json": {
       "model_id": "1c6a2841469b409ebdb2df01527785bd",
       "version_major": 2,
       "version_minor": 0
      },
      "text/plain": [
       "VBox()"
      ]
     },
     "metadata": {},
     "output_type": "display_data"
    },
    {
     "data": {
      "application/vnd.jupyter.widget-view+json": {
       "model_id": "",
       "version_major": 2,
       "version_minor": 0
      },
      "text/plain": [
       "FloatProgress(value=0.0, bar_style='info', description='Progress:', layout=Layout(height='25px', width='50%'),…"
      ]
     },
     "metadata": {},
     "output_type": "display_data"
    }
   ],
   "source": [
    "DIM_ATM.coalesce(1).write.format('csv').option('header','false').save('s3://etl-project-saish/DIM_ATM',mode='overwrite')"
   ]
  },
  {
   "cell_type": "markdown",
   "id": "567aac26",
   "metadata": {},
   "source": [
    "### 5.3 Loading the 'DIM_DATE' dataframe to the S3 bucket."
   ]
  },
  {
   "cell_type": "code",
   "execution_count": 94,
   "id": "97d395e0",
   "metadata": {},
   "outputs": [
    {
     "data": {
      "application/vnd.jupyter.widget-view+json": {
       "model_id": "65f9eab6cb91498aab6756ced17de35b",
       "version_major": 2,
       "version_minor": 0
      },
      "text/plain": [
       "VBox()"
      ]
     },
     "metadata": {},
     "output_type": "display_data"
    },
    {
     "data": {
      "application/vnd.jupyter.widget-view+json": {
       "model_id": "",
       "version_major": 2,
       "version_minor": 0
      },
      "text/plain": [
       "FloatProgress(value=0.0, bar_style='info', description='Progress:', layout=Layout(height='25px', width='50%'),…"
      ]
     },
     "metadata": {},
     "output_type": "display_data"
    }
   ],
   "source": [
    "DIM_DATE.coalesce(1).write.format('csv').option('header','false').save('s3://etl-project-saish/DIM_DATE',mode='overwrite')"
   ]
  },
  {
   "cell_type": "markdown",
   "id": "f2c5acac",
   "metadata": {},
   "source": [
    "### 5.4 Loading the 'DIM_CARD_TYPE' dataframe to the S3 bucket."
   ]
  },
  {
   "cell_type": "code",
   "execution_count": 95,
   "id": "26405ae2",
   "metadata": {},
   "outputs": [
    {
     "data": {
      "application/vnd.jupyter.widget-view+json": {
       "model_id": "941cabccc95c48d3bd5970cd37bd7f12",
       "version_major": 2,
       "version_minor": 0
      },
      "text/plain": [
       "VBox()"
      ]
     },
     "metadata": {},
     "output_type": "display_data"
    },
    {
     "data": {
      "application/vnd.jupyter.widget-view+json": {
       "model_id": "",
       "version_major": 2,
       "version_minor": 0
      },
      "text/plain": [
       "FloatProgress(value=0.0, bar_style='info', description='Progress:', layout=Layout(height='25px', width='50%'),…"
      ]
     },
     "metadata": {},
     "output_type": "display_data"
    }
   ],
   "source": [
    "DIM_CARD_TYPE.coalesce(1).write.format('csv').option('header','false').save('s3://etl-project-saish/DIM_CARD_TYPE',mode='overwrite')"
   ]
  },
  {
   "cell_type": "markdown",
   "id": "ec2dc093",
   "metadata": {},
   "source": [
    "### 5.5 Loading the 'FACT_ATM_TRANS' dataframe to the S3 bucket."
   ]
  },
  {
   "cell_type": "code",
   "execution_count": 96,
   "id": "bf43ebcc",
   "metadata": {},
   "outputs": [
    {
     "data": {
      "application/vnd.jupyter.widget-view+json": {
       "model_id": "92905dadc45449829a5ac6f4ac7c9def",
       "version_major": 2,
       "version_minor": 0
      },
      "text/plain": [
       "VBox()"
      ]
     },
     "metadata": {},
     "output_type": "display_data"
    },
    {
     "data": {
      "application/vnd.jupyter.widget-view+json": {
       "model_id": "",
       "version_major": 2,
       "version_minor": 0
      },
      "text/plain": [
       "FloatProgress(value=0.0, bar_style='info', description='Progress:', layout=Layout(height='25px', width='50%'),…"
      ]
     },
     "metadata": {},
     "output_type": "display_data"
    }
   ],
   "source": [
    "FACT_ATM_TRANS.coalesce(1).write.format('csv').option('header','false').save('s3://etl-project-saish/FACT_ATM_TRANS',mode='overwrite')"
   ]
  },
  {
   "cell_type": "markdown",
   "id": "dbb3abd7",
   "metadata": {},
   "source": [
    "- ### All the dataframes/tables are loaded to the Amazon S3 bucket."
   ]
  }
 ],
 "metadata": {
  "kernelspec": {
   "display_name": "PySpark",
   "language": "",
   "name": "pysparkkernel"
  },
  "language_info": {
   "codemirror_mode": {
    "name": "python",
    "version": 3
   },
   "mimetype": "text/x-python",
   "name": "pyspark",
   "pygments_lexer": "python3"
  }
 },
 "nbformat": 4,
 "nbformat_minor": 5
}
